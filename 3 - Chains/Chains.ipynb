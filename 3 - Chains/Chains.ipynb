{
 "cells": [
  {
   "cell_type": "markdown",
   "id": "728f1747-b8fc-4d31-96c2-047fc83c079d",
   "metadata": {},
   "source": [
    "#  Chains\n",
    "\n",
    "Chains allow us to link the output of one LLM call as input of another LLM call."
   ]
  },
  {
   "cell_type": "markdown",
   "id": "a055bb42",
   "metadata": {},
   "source": [
    "Chain topics explored:\n",
    "\n",
    "1) LLMChain\n",
    "2) SimpleSequentialChain\n",
    "3) SequentialChain\n",
    "4) LLMRouterChain\n",
    "5) TransformChain\n",
    "6) OpenAI Function Calling\n",
    "7) MathChain\n",
    "8) AdditionalChains"
   ]
  },
  {
   "cell_type": "code",
   "execution_count": 3,
   "id": "244f42d8-2349-446e-a1c2-ae4b8d3ee38f",
   "metadata": {},
   "outputs": [],
   "source": [
    "import os\n",
    "openai_api_key = os.getenv(key=\"OPENAI_API_KEY\")"
   ]
  },
  {
   "cell_type": "code",
   "execution_count": 5,
   "id": "ba9cdab6-7337-42ee-9299-9bd98b6105fa",
   "metadata": {},
   "outputs": [],
   "source": [
    "from langchain.chat_models import ChatOpenAI\n",
    "from langchain.prompts.chat import (\n",
    "    ChatPromptTemplate,\n",
    "    HumanMessagePromptTemplate,\n",
    ")"
   ]
  },
  {
   "cell_type": "markdown",
   "id": "254d0dba",
   "metadata": {},
   "source": [
    "Chains have a basic building block called LLMChain object. We can think of an LLMChain object as simple LLM call that will have an input and an output."
   ]
  },
  {
   "cell_type": "code",
   "execution_count": 7,
   "id": "ef4ce02d-d8aa-44f3-aa91-cfb8cfc06f6c",
   "metadata": {},
   "outputs": [],
   "source": [
    "human_message_prompt = HumanMessagePromptTemplate.from_template(\"Make up a funny company name for a company that produces {product}\")\n",
    "chat_prompt_template = ChatPromptTemplate.from_messages([human_message_prompt])"
   ]
  },
  {
   "cell_type": "code",
   "execution_count": 8,
   "id": "a8278652-4c42-4ef1-a32b-6e971cccf1e3",
   "metadata": {},
   "outputs": [],
   "source": [
    "chat = ChatOpenAI()"
   ]
  },
  {
   "cell_type": "code",
   "execution_count": 9,
   "id": "eb223191-78c9-421e-a8a3-67e016b10faf",
   "metadata": {},
   "outputs": [],
   "source": [
    "from langchain.chains import LLMChain\n",
    "chain = LLMChain(llm=chat, prompt=chat_prompt_template)"
   ]
  },
  {
   "cell_type": "code",
   "execution_count": 11,
   "id": "6d4b3baf-5a5e-40bd-b916-bf0460a762f8",
   "metadata": {},
   "outputs": [
    {
     "name": "stdout",
     "output_type": "stream",
     "text": [
      "Sudsy McSuds Soap Co.\n"
     ]
    }
   ],
   "source": [
    "print(chain.run(product=\"Soap\"))"
   ]
  },
  {
   "cell_type": "markdown",
   "id": "b89618df",
   "metadata": {},
   "source": [
    "## SimpleSequentialCHain\n",
    "\n",
    "The flow of a SimpleSequentialChain is something like:\n",
    "\n",
    "input --> LLMChain --> LLMChain --> LLMChain --> Output"
   ]
  },
  {
   "cell_type": "code",
   "execution_count": 21,
   "id": "7a0e06f5",
   "metadata": {},
   "outputs": [],
   "source": [
    "from langchain.chains import SimpleSequentialChain"
   ]
  },
  {
   "cell_type": "code",
   "execution_count": 26,
   "id": "b2ec6b46",
   "metadata": {},
   "outputs": [],
   "source": [
    "llm = ChatOpenAI()"
   ]
  },
  {
   "cell_type": "code",
   "execution_count": 28,
   "id": "e1b36556",
   "metadata": {},
   "outputs": [],
   "source": [
    "# 2 LLMChain blocks: Topic for a blog post --> [[ Outline --> Create blog post from outline ]] --> Blog post text\n",
    "\n",
    "#First block that will output the outline\n",
    "template = \"Give me a simple bullet point outline for a blog post on {topic}\"\n",
    "first_prompt = ChatPromptTemplate.from_template(template)\n",
    "chain_one = LLMChain(llm = llm, prompt = first_prompt)"
   ]
  },
  {
   "cell_type": "code",
   "execution_count": 29,
   "id": "0f7c0861",
   "metadata": {},
   "outputs": [],
   "source": [
    "#Second block\n",
    "template_two = \"Write a blog post using this outline: {outline}\"\n",
    "second_prompt = ChatPromptTemplate.from_template(template_two)\n",
    "chain_two = LLMChain(llm = llm, prompt = second_prompt)"
   ]
  },
  {
   "cell_type": "code",
   "execution_count": 30,
   "id": "bb87bfe5",
   "metadata": {},
   "outputs": [],
   "source": [
    "full_chain = SimpleSequentialChain(chains = [chain_one, chain_two], verbose = True)"
   ]
  },
  {
   "cell_type": "code",
   "execution_count": null,
   "id": "414139c3",
   "metadata": {},
   "outputs": [],
   "source": [
    "full_chain"
   ]
  },
  {
   "cell_type": "code",
   "execution_count": 33,
   "id": "d231b477",
   "metadata": {},
   "outputs": [
    {
     "name": "stdout",
     "output_type": "stream",
     "text": [
      "\n",
      "\n",
      "\u001b[1m> Entering new SimpleSequentialChain chain...\u001b[0m\n",
      "\u001b[36;1m\u001b[1;3m- Introduction to Albert Einstein and his contributions to science\n",
      "- Early life and education of Albert Einstein\n",
      "- The theory of relativity and its impact on physics\n",
      "- Other significant achievements and awards received by Einstein\n",
      "- Legacy of Albert Einstein and his influence on modern science\n",
      "- Conclusion and reflection on the impact of Einstein's work\u001b[0m\n",
      "\u001b[33;1m\u001b[1;3mAlbert Einstein is undoubtedly one of the most well-known and influential scientists in history. His groundbreaking work in the field of physics revolutionized our understanding of the universe and laid the foundation for many of the scientific advancements we enjoy today. In this blog post, we will explore the life and contributions of Albert Einstein, from his early beginnings to his lasting legacy in the world of science.\n",
      "\n",
      "Born in 1879 in Ulm, Germany, Albert Einstein showed an early aptitude for math and science. After moving to Switzerland with his family, he continued his education and eventually went on to study physics at the Swiss Federal Institute of Technology in Zurich. It was during this time that Einstein began to develop his revolutionary theories on the nature of space and time.\n",
      "\n",
      "One of Einstein's most famous and groundbreaking theories is the theory of relativity, which he first published in 1905. This theory fundamentally changed our understanding of how the universe works, showing that time and space are not absolute but are instead intertwined and influenced by the presence of matter and energy. The theory of relativity has had a profound impact on the field of physics, leading to new discoveries and advancements in areas such as cosmology and quantum mechanics.\n",
      "\n",
      "In addition to his work on the theory of relativity, Albert Einstein made many other significant contributions to the field of physics. He was awarded the Nobel Prize in Physics in 1921 for his discovery of the photoelectric effect, which laid the groundwork for the development of quantum theory. Throughout his career, Einstein received numerous awards and honors for his groundbreaking work, solidifying his reputation as one of the greatest scientific minds of all time.\n",
      "\n",
      "The legacy of Albert Einstein continues to influence modern science in profound ways. His theories and discoveries have paved the way for new technologies and advancements, shaping the way we understand the universe and our place within it. Einstein's work has inspired countless scientists and researchers to push the boundaries of what is possible, driving innovation and progress in the field of physics and beyond.\n",
      "\n",
      "In conclusion, Albert Einstein's contributions to science have had a lasting impact on our understanding of the universe and our place within it. His groundbreaking theories and discoveries continue to shape the way we view the world around us, inspiring future generations of scientists to continue exploring the mysteries of the cosmos. Albert Einstein's legacy will undoubtedly endure for generations to come, leaving a lasting mark on the world of science and beyond.\u001b[0m\n",
      "\n",
      "\u001b[1m> Finished chain.\u001b[0m\n"
     ]
    }
   ],
   "source": [
    "result = full_chain.run(\"Albert Einstein\")"
   ]
  },
  {
   "cell_type": "code",
   "execution_count": 34,
   "id": "8b1d013b",
   "metadata": {},
   "outputs": [
    {
     "name": "stdout",
     "output_type": "stream",
     "text": [
      "Albert Einstein is undoubtedly one of the most well-known and influential scientists in history. His groundbreaking work in the field of physics revolutionized our understanding of the universe and laid the foundation for many of the scientific advancements we enjoy today. In this blog post, we will explore the life and contributions of Albert Einstein, from his early beginnings to his lasting legacy in the world of science.\n",
      "\n",
      "Born in 1879 in Ulm, Germany, Albert Einstein showed an early aptitude for math and science. After moving to Switzerland with his family, he continued his education and eventually went on to study physics at the Swiss Federal Institute of Technology in Zurich. It was during this time that Einstein began to develop his revolutionary theories on the nature of space and time.\n",
      "\n",
      "One of Einstein's most famous and groundbreaking theories is the theory of relativity, which he first published in 1905. This theory fundamentally changed our understanding of how the universe works, showing that time and space are not absolute but are instead intertwined and influenced by the presence of matter and energy. The theory of relativity has had a profound impact on the field of physics, leading to new discoveries and advancements in areas such as cosmology and quantum mechanics.\n",
      "\n",
      "In addition to his work on the theory of relativity, Albert Einstein made many other significant contributions to the field of physics. He was awarded the Nobel Prize in Physics in 1921 for his discovery of the photoelectric effect, which laid the groundwork for the development of quantum theory. Throughout his career, Einstein received numerous awards and honors for his groundbreaking work, solidifying his reputation as one of the greatest scientific minds of all time.\n",
      "\n",
      "The legacy of Albert Einstein continues to influence modern science in profound ways. His theories and discoveries have paved the way for new technologies and advancements, shaping the way we understand the universe and our place within it. Einstein's work has inspired countless scientists and researchers to push the boundaries of what is possible, driving innovation and progress in the field of physics and beyond.\n",
      "\n",
      "In conclusion, Albert Einstein's contributions to science have had a lasting impact on our understanding of the universe and our place within it. His groundbreaking theories and discoveries continue to shape the way we view the world around us, inspiring future generations of scientists to continue exploring the mysteries of the cosmos. Albert Einstein's legacy will undoubtedly endure for generations to come, leaving a lasting mark on the world of science and beyond.\n"
     ]
    }
   ],
   "source": [
    "print(result)"
   ]
  },
  {
   "cell_type": "code",
   "execution_count": 35,
   "id": "fa95949d",
   "metadata": {},
   "outputs": [
    {
     "data": {
      "text/plain": [
       "str"
      ]
     },
     "execution_count": 35,
     "metadata": {},
     "output_type": "execute_result"
    }
   ],
   "source": [
    "type(result)"
   ]
  },
  {
   "cell_type": "markdown",
   "id": "633f7132",
   "metadata": {},
   "source": [
    "## SequentialChain"
   ]
  },
  {
   "cell_type": "markdown",
   "id": "a467040f",
   "metadata": {},
   "source": [
    "Sequential Chains are similar to simple sequential chains but allow us to have access to the outputs from the internal LLMs"
   ]
  },
  {
   "cell_type": "code",
   "execution_count": 1,
   "id": "719ad1b0",
   "metadata": {},
   "outputs": [],
   "source": [
    "from langchain.chains import LLMChain, SimpleSequentialChain, SequentialChain"
   ]
  },
  {
   "cell_type": "code",
   "execution_count": 6,
   "id": "f2eca8a3",
   "metadata": {},
   "outputs": [],
   "source": [
    "llm = ChatOpenAI()"
   ]
  },
  {
   "cell_type": "code",
   "execution_count": 7,
   "id": "cdea1919",
   "metadata": {},
   "outputs": [],
   "source": [
    "# 3 Chains\n",
    "# Employee performance review input text\n",
    "# review_text --> LLMChain --> summary\n",
    "# Summary --> LLMChain --> Weaknesses\n",
    "# Weaknesses --> LLMChain --> Improvement Plan"
   ]
  },
  {
   "cell_type": "code",
   "execution_count": 8,
   "id": "20f1f616",
   "metadata": {},
   "outputs": [],
   "source": [
    "template1 = \"Give a summary of this employee's performance review:\\n{review}\"\n",
    "prompt1 = ChatPromptTemplate.from_template(template1)\n",
    "chain1 = LLMChain(llm=llm, prompt=prompt1, output_key=\"review_summary\")  # specify output in order to be used in the next chain"
   ]
  },
  {
   "cell_type": "code",
   "execution_count": 10,
   "id": "b5813f0a",
   "metadata": {},
   "outputs": [],
   "source": [
    "template2 = \"Identify key employee weaknesses from this performance review summary:\\n{review_summary}\"  # here we include the output of the previous\n",
    "prompt2 = ChatPromptTemplate.from_template(template2)\n",
    "chain2 = LLMChain(llm=llm, prompt=prompt2, output_key=\"weaknesses\")"
   ]
  },
  {
   "cell_type": "code",
   "execution_count": 11,
   "id": "5beb412d",
   "metadata": {},
   "outputs": [],
   "source": [
    "template3 = \"Create a personalised improvement plan to help address and fix these weaknesses:\\n{weaknesses}\"  # needs to match output key\n",
    "prompt3 = ChatPromptTemplate.from_template(template3)\n",
    "chain3 = LLMChain(llm=llm, prompt=prompt3, output_key=\"final_plan\")"
   ]
  },
  {
   "cell_type": "code",
   "execution_count": 12,
   "id": "604771d2",
   "metadata": {},
   "outputs": [],
   "source": [
    "employee_review = '''\n",
    "Employee Information:\n",
    "Name: Joe Schmo\n",
    "Position: Software Engineer\n",
    "Date of Review: July 14, 2023\n",
    "\n",
    "Strengths:\n",
    "Joe is a highly skilled software engineer with a deep understanding of programming languages, algorithms, and software development best practices. His technical expertise shines through in his ability to efficiently solve complex problems and deliver high-quality code.\n",
    "\n",
    "One of Joe's greatest strengths is his collaborative nature. He actively engages with cross-functional teams, contributing valuable insights and seeking input from others. His open-mindedness and willingness to learn from colleagues make him a true team player.\n",
    "\n",
    "Joe consistently demonstrates initiative and self-motivation. He takes the lead in seeking out new projects and challenges, and his proactive attitude has led to significant improvements in existing processes and systems. His dedication to self-improvement and growth is commendable.\n",
    "\n",
    "Another notable strength is Joe's adaptability. He has shown great flexibility in handling changing project requirements and learning new technologies. This adaptability allows him to seamlessly transition between different projects and tasks, making him a valuable asset to the team.\n",
    "\n",
    "Joe's problem-solving skills are exceptional. He approaches issues with a logical mindset and consistently finds effective solutions, often thinking outside the box. His ability to break down complex problems into manageable parts is key to his success in resolving issues efficiently.\n",
    "\n",
    "Weaknesses:\n",
    "While Joe possesses numerous strengths, there are a few areas where he could benefit from improvement. One such area is time management. Occasionally, Joe struggles with effectively managing his time, resulting in missed deadlines or the need for additional support to complete tasks on time. Developing better prioritization and time management techniques would greatly enhance his efficiency.\n",
    "\n",
    "Another area for improvement is Joe's written communication skills. While he communicates well verbally, there have been instances where his written documentation lacked clarity, leading to confusion among team members. Focusing on enhancing his written communication abilities will help him effectively convey ideas and instructions.\n",
    "\n",
    "Additionally, Joe tends to take on too many responsibilities and hesitates to delegate tasks to others. This can result in an excessive workload and potential burnout. Encouraging him to delegate tasks appropriately will not only alleviate his own workload but also foster a more balanced and productive team environment.\n",
    "'''"
   ]
  },
  {
   "cell_type": "code",
   "execution_count": 13,
   "id": "990bfc52",
   "metadata": {},
   "outputs": [],
   "source": [
    "full_chain = SequentialChain(\n",
    "    chains=[chain1, chain2, chain3],\n",
    "    input_variables=[\"review\"],  # include the input of first chain\n",
    "    output_variables=[\"review_summary\", \"weaknesses\", \"final_plan\"],  # it's a good practice to include all of the variables\n",
    "    verbose=True\n",
    ")"
   ]
  },
  {
   "cell_type": "code",
   "execution_count": 14,
   "id": "4ff6cba4",
   "metadata": {},
   "outputs": [
    {
     "name": "stdout",
     "output_type": "stream",
     "text": [
      "\n",
      "\n",
      "\u001b[1m> Entering new SequentialChain chain...\u001b[0m\n",
      "\n",
      "\u001b[1m> Finished chain.\u001b[0m\n"
     ]
    }
   ],
   "source": [
    "result = full_chain(employee_review)"
   ]
  },
  {
   "cell_type": "code",
   "execution_count": 16,
   "id": "9ae4ec62",
   "metadata": {},
   "outputs": [
    {
     "data": {
      "text/plain": [
       "dict"
      ]
     },
     "execution_count": 16,
     "metadata": {},
     "output_type": "execute_result"
    }
   ],
   "source": [
    "type(result)"
   ]
  },
  {
   "cell_type": "code",
   "execution_count": 18,
   "id": "a35023e0",
   "metadata": {},
   "outputs": [
    {
     "data": {
      "text/plain": [
       "dict_keys(['review', 'review_summary', 'weaknesses', 'final_plan'])"
      ]
     },
     "execution_count": 18,
     "metadata": {},
     "output_type": "execute_result"
    }
   ],
   "source": [
    "result.keys()"
   ]
  },
  {
   "cell_type": "code",
   "execution_count": 22,
   "id": "ea31a653",
   "metadata": {},
   "outputs": [
    {
     "name": "stdout",
     "output_type": "stream",
     "text": [
      "\n",
      "Employee Information:\n",
      "Name: Joe Schmo\n",
      "Position: Software Engineer\n",
      "Date of Review: July 14, 2023\n",
      "\n",
      "Strengths:\n",
      "Joe is a highly skilled software engineer with a deep understanding of programming languages, algorithms, and software development best practices. His technical expertise shines through in his ability to efficiently solve complex problems and deliver high-quality code.\n",
      "\n",
      "One of Joe's greatest strengths is his collaborative nature. He actively engages with cross-functional teams, contributing valuable insights and seeking input from others. His open-mindedness and willingness to learn from colleagues make him a true team player.\n",
      "\n",
      "Joe consistently demonstrates initiative and self-motivation. He takes the lead in seeking out new projects and challenges, and his proactive attitude has led to significant improvements in existing processes and systems. His dedication to self-improvement and growth is commendable.\n",
      "\n",
      "Another notable strength is Joe's adaptability. He has shown great flexibility in handling changing project requirements and learning new technologies. This adaptability allows him to seamlessly transition between different projects and tasks, making him a valuable asset to the team.\n",
      "\n",
      "Joe's problem-solving skills are exceptional. He approaches issues with a logical mindset and consistently finds effective solutions, often thinking outside the box. His ability to break down complex problems into manageable parts is key to his success in resolving issues efficiently.\n",
      "\n",
      "Weaknesses:\n",
      "While Joe possesses numerous strengths, there are a few areas where he could benefit from improvement. One such area is time management. Occasionally, Joe struggles with effectively managing his time, resulting in missed deadlines or the need for additional support to complete tasks on time. Developing better prioritization and time management techniques would greatly enhance his efficiency.\n",
      "\n",
      "Another area for improvement is Joe's written communication skills. While he communicates well verbally, there have been instances where his written documentation lacked clarity, leading to confusion among team members. Focusing on enhancing his written communication abilities will help him effectively convey ideas and instructions.\n",
      "\n",
      "Additionally, Joe tends to take on too many responsibilities and hesitates to delegate tasks to others. This can result in an excessive workload and potential burnout. Encouraging him to delegate tasks appropriately will not only alleviate his own workload but also foster a more balanced and productive team environment.\n",
      "\n"
     ]
    }
   ],
   "source": [
    "print(result[\"review\"])"
   ]
  },
  {
   "cell_type": "code",
   "execution_count": 23,
   "id": "1e1a8602",
   "metadata": {},
   "outputs": [
    {
     "name": "stdout",
     "output_type": "stream",
     "text": [
      "Overall, Joe Schmo is a highly skilled and collaborative software engineer with exceptional problem-solving abilities and adaptability. He demonstrates initiative, self-motivation, and a willingness to learn from others. However, he could benefit from improving his time management skills, written communication, and delegation of tasks. By addressing these areas for improvement, Joe can further enhance his efficiency and contribute even more effectively to the team.\n"
     ]
    }
   ],
   "source": [
    "print(result[\"review_summary\"])"
   ]
  },
  {
   "cell_type": "code",
   "execution_count": 24,
   "id": "e14d0497",
   "metadata": {},
   "outputs": [
    {
     "name": "stdout",
     "output_type": "stream",
     "text": [
      "1. Time management skills\n",
      "2. Written communication\n",
      "3. Delegation of tasks\n"
     ]
    }
   ],
   "source": [
    "print(result[\"weaknesses\"])"
   ]
  },
  {
   "cell_type": "markdown",
   "id": "90d7411d",
   "metadata": {},
   "source": [
    "## LLMRouterChain"
   ]
  },
  {
   "cell_type": "markdown",
   "id": "237f29a5",
   "metadata": {},
   "source": [
    "Takes an input and redirects it to the most appropriate LLMChain sequence\n",
    "The router accepts multiple potential destination LLMChains and then via a specialized prompt, the router will reat the initial input then output a spefic dictionary that matches up to one of the potential destination chains to continue processing."
   ]
  },
  {
   "cell_type": "code",
   "execution_count": 27,
   "id": "ebaf3201",
   "metadata": {},
   "outputs": [],
   "source": [
    "# person ask question about football\n",
    "# \"What is the main objective of a football game?\"\n",
    "# \"Who are three of the best football players of all time and what made them so technically good?\"\n",
    "# Questions that can be really simple or difficult\n",
    "# Input --> Router --> LLM decides the correct chain --> Chain --> Output"
   ]
  },
  {
   "cell_type": "code",
   "execution_count": 28,
   "id": "c6cfd4ce",
   "metadata": {},
   "outputs": [],
   "source": [
    "from langchain.chains import RouterChain"
   ]
  },
  {
   "cell_type": "code",
   "execution_count": 29,
   "id": "4daef3cb",
   "metadata": {},
   "outputs": [],
   "source": [
    "begginer_template = \"\"\"You are an expert in football who is really focused on beginners and explaining complex concepts in simple to understand terms.\n",
    "You assume no prior knowledge. Here is your question:\\n{input}\"\"\""
   ]
  },
  {
   "cell_type": "code",
   "execution_count": 30,
   "id": "6cdaa080",
   "metadata": {},
   "outputs": [],
   "source": [
    "expert_template = \"\"\"You are an expert in football who knows a lot about football and the players and explains topics to advanced audience members. \n",
    "You can assume anyone you answer loves football. Here is your question:\\n{input}\"\"\""
   ]
  },
  {
   "cell_type": "code",
   "execution_count": 31,
   "id": "0076ce38",
   "metadata": {},
   "outputs": [],
   "source": [
    "# Route prompt information\n",
    "# [{Name, Description, Template}]\n",
    "\n",
    "prompt_infos = [\n",
    "    {\n",
    "        \"name\": \"Beginner Football\",\n",
    "        \"description\": \"Answers basic football questions\",  # Important that this matches the template phrasing.\n",
    "        \"template\": begginer_template,\n",
    "    },\n",
    "    {\n",
    "        \"name\": \"Expert Football\",\n",
    "        \"description\": \"Answers advanced football questions\",  # Important that this matches the template phrasing.\n",
    "        \"template\": expert_template,\n",
    "    }\n",
    "]"
   ]
  },
  {
   "cell_type": "code",
   "execution_count": 32,
   "id": "a42dcff7",
   "metadata": {},
   "outputs": [],
   "source": [
    "llm = ChatOpenAI()\n",
    "\n",
    "destination_chains = {}\n",
    "\n",
    "for p_info in prompt_infos:\n",
    "    name = p_info[\"name\"]\n",
    "    template = p_info[\"template\"]\n",
    "\n",
    "    prompt = ChatPromptTemplate.from_template(template=template)\n",
    "\n",
    "    chain = LLMChain(llm=llm, prompt=prompt)\n",
    "\n",
    "    destination_chains[name] = chain"
   ]
  },
  {
   "cell_type": "code",
   "execution_count": 33,
   "id": "a901651d",
   "metadata": {},
   "outputs": [
    {
     "data": {
      "text/plain": [
       "dict_keys(['Beginner Football', 'Expert Football'])"
      ]
     },
     "execution_count": 33,
     "metadata": {},
     "output_type": "execute_result"
    }
   ],
   "source": [
    "destination_chains.keys()"
   ]
  },
  {
   "cell_type": "code",
   "execution_count": 34,
   "id": "22abb7d2",
   "metadata": {},
   "outputs": [],
   "source": [
    "default_prompt = ChatPromptTemplate.from_template(\"{input}\")\n",
    "default_chain = LLMChain(llm=llm, prompt=default_prompt)"
   ]
  },
  {
   "cell_type": "code",
   "execution_count": 35,
   "id": "20605630",
   "metadata": {},
   "outputs": [],
   "source": [
    "from langchain.chains.router.multi_prompt_prompt import MULTI_PROMPT_ROUTER_TEMPLATE"
   ]
  },
  {
   "cell_type": "code",
   "execution_count": 36,
   "id": "c5f9b182",
   "metadata": {},
   "outputs": [
    {
     "name": "stdout",
     "output_type": "stream",
     "text": [
      "Given a raw text input to a language model select the model prompt best suited for the input. You will be given the names of the available prompts and a description of what the prompt is best suited for. You may also revise the original input if you think that revising it will ultimately lead to a better response from the language model.\n",
      "\n",
      "<< FORMATTING >>\n",
      "Return a markdown code snippet with a JSON object formatted to look like:\n",
      "```json\n",
      "{{{{\n",
      "    \"destination\": string \\ name of the prompt to use or \"DEFAULT\"\n",
      "    \"next_inputs\": string \\ a potentially modified version of the original input\n",
      "}}}}\n",
      "```\n",
      "\n",
      "REMEMBER: \"destination\" MUST be one of the candidate prompt names specified below OR it can be \"DEFAULT\" if the input is not well suited for any of the candidate prompts.\n",
      "REMEMBER: \"next_inputs\" can just be the original input if you don't think any modifications are needed.\n",
      "\n",
      "<< CANDIDATE PROMPTS >>\n",
      "{destinations}\n",
      "\n",
      "<< INPUT >>\n",
      "{{input}}\n",
      "\n",
      "<< OUTPUT (must include ```json at the start of the response) >>\n",
      "<< OUTPUT (must end with ```) >>\n",
      "\n"
     ]
    }
   ],
   "source": [
    "# This is just a set of instructions\n",
    "print(MULTI_PROMPT_ROUTER_TEMPLATE)"
   ]
  },
  {
   "cell_type": "code",
   "execution_count": 37,
   "id": "94a4fe3a",
   "metadata": {},
   "outputs": [
    {
     "data": {
      "text/plain": [
       "['Beginner Football: Answers basic football questions',\n",
       " 'Expert Football: Answers advanced football questions']"
      ]
     },
     "execution_count": 37,
     "metadata": {},
     "output_type": "execute_result"
    }
   ],
   "source": [
    "# Edit the MULTI PROMPT ROUTER TEMPLATE\n",
    "destinations = [f\"{p['name']}: {p['description']}\" for p in prompt_infos]\n",
    "destinations"
   ]
  },
  {
   "cell_type": "code",
   "execution_count": 38,
   "id": "a9583832",
   "metadata": {},
   "outputs": [
    {
     "data": {
      "text/plain": [
       "'Beginner Football: Answers basic football questions\\nExpert Football: Answers advanced football questions'"
      ]
     },
     "execution_count": 38,
     "metadata": {},
     "output_type": "execute_result"
    }
   ],
   "source": [
    "destination_str = \"\\n\".join(destinations)  # we should follow this format\n",
    "destination_str"
   ]
  },
  {
   "cell_type": "code",
   "execution_count": 39,
   "id": "00e285f7",
   "metadata": {},
   "outputs": [
    {
     "name": "stdout",
     "output_type": "stream",
     "text": [
      "Given a raw text input to a language model select the model prompt best suited for the input. You will be given the names of the available prompts and a description of what the prompt is best suited for. You may also revise the original input if you think that revising it will ultimately lead to a better response from the language model.\n",
      "\n",
      "<< FORMATTING >>\n",
      "Return a markdown code snippet with a JSON object formatted to look like:\n",
      "```json\n",
      "{{\n",
      "    \"destination\": string \\ name of the prompt to use or \"DEFAULT\"\n",
      "    \"next_inputs\": string \\ a potentially modified version of the original input\n",
      "}}\n",
      "```\n",
      "\n",
      "REMEMBER: \"destination\" MUST be one of the candidate prompt names specified below OR it can be \"DEFAULT\" if the input is not well suited for any of the candidate prompts.\n",
      "REMEMBER: \"next_inputs\" can just be the original input if you don't think any modifications are needed.\n",
      "\n",
      "<< CANDIDATE PROMPTS >>\n",
      "Beginner Football: Answers basic football questions\n",
      "Expert Football: Answers advanced football questions\n",
      "\n",
      "<< INPUT >>\n",
      "{input}\n",
      "\n",
      "<< OUTPUT (must include ```json at the start of the response) >>\n",
      "<< OUTPUT (must end with ```) >>\n",
      "\n"
     ]
    }
   ],
   "source": [
    "from langchain.prompts import PromptTemplate\n",
    "from langchain.chains.router.llm_router import LLMRouterChain, RouterOutputParser\n",
    "# Destinations are now filled\n",
    "router_template = MULTI_PROMPT_ROUTER_TEMPLATE.format(\n",
    "    destinations=destination_str\n",
    ")\n",
    "print(router_template)"
   ]
  },
  {
   "cell_type": "code",
   "execution_count": 40,
   "id": "a4ec4e6d",
   "metadata": {},
   "outputs": [],
   "source": [
    "router_prompt = PromptTemplate(\n",
    "    template=router_template,\n",
    "    input_variables=[\"input\"],\n",
    "    output_parser=RouterOutputParser()\n",
    ")\n",
    "from langchain.chains.router import MultiPromptChain\n",
    "router_chain = LLMRouterChain.from_llm(llm=llm, prompt=router_prompt)\n",
    "chain = MultiPromptChain(\n",
    "    router_chain=router_chain, \n",
    "    destination_chains=destination_chains, \n",
    "    default_chain=default_chain,\n",
    "    verbose=True\n",
    ")"
   ]
  },
  {
   "cell_type": "code",
   "execution_count": 41,
   "id": "6d1da50b",
   "metadata": {},
   "outputs": [
    {
     "name": "stdout",
     "output_type": "stream",
     "text": [
      "\n",
      "\n",
      "\u001b[1m> Entering new MultiPromptChain chain...\u001b[0m\n",
      "Beginner Football: {'input': 'What is the objective of a football game?'}\n",
      "\u001b[1m> Finished chain.\u001b[0m\n"
     ]
    }
   ],
   "source": [
    "result = chain.run(\"What is the objective of a football game?\")"
   ]
  },
  {
   "cell_type": "code",
   "execution_count": 42,
   "id": "b980703f",
   "metadata": {},
   "outputs": [
    {
     "name": "stdout",
     "output_type": "stream",
     "text": [
      "The objective of a football game is for each team to score more points than the other team by moving the ball into the opposing team's end zone. Each team has a set amount of time, known as quarters, to try and score as many points as possible. Points can be scored by either carrying the ball into the end zone for a touchdown, kicking the ball through the goalposts for a field goal, or tackling an opposing player in their own end zone for a safety. The team with the most points at the end of the game is declared the winner.\n"
     ]
    }
   ],
   "source": [
    "print(result)"
   ]
  },
  {
   "cell_type": "code",
   "execution_count": 43,
   "id": "90c56a81",
   "metadata": {},
   "outputs": [
    {
     "name": "stdout",
     "output_type": "stream",
     "text": [
      "\n",
      "\n",
      "\u001b[1m> Entering new MultiPromptChain chain...\u001b[0m\n",
      "None: {'input': 'Who are three of the best football players of all time and what made them so technically good?'}\n",
      "\u001b[1m> Finished chain.\u001b[0m\n",
      "1. Lionel Messi - Messi is widely regarded as one of the greatest footballers of all time due to his incredible dribbling ability, vision, and precise finishing. His close ball control and quick acceleration make him almost impossible to defend against, and his ability to create scoring opportunities for himself and his teammates is unparalleled.\n",
      "\n",
      "2. Cristiano Ronaldo - Ronaldo is another player often considered one of the best of all time due to his exceptional physical attributes and goal-scoring ability. His speed, strength, and aerial prowess make him a constant threat in front of goal, and his work ethic and dedication to training have allowed him to maintain a high level of performance throughout his career.\n",
      "\n",
      "3. Diego Maradona - Maradona is a legendary player known for his incredible skill on the ball, agility, and creativity. His ability to dribble past multiple defenders with ease and his vision to create scoring opportunities for himself and his teammates set him apart from his peers. Maradona's famous \"Hand of God\" goal in the 1986 World Cup and his stunning solo goal against England in the same tournament are just a few examples of his technical brilliance.\n"
     ]
    }
   ],
   "source": [
    "result = chain.run(\"Who are three of the best football players of all time and what made them so technically good?\")\n",
    "print(result)"
   ]
  },
  {
   "cell_type": "markdown",
   "id": "22fa7c52",
   "metadata": {},
   "source": [
    "## Transform Chain"
   ]
  },
  {
   "cell_type": "code",
   "execution_count": 44,
   "id": "a9255441",
   "metadata": {},
   "outputs": [],
   "source": [
    "yelp_review = open(\"yelp_review.txt\").read()"
   ]
  },
  {
   "cell_type": "code",
   "execution_count": 45,
   "id": "13709dc9",
   "metadata": {},
   "outputs": [
    {
     "name": "stdout",
     "output_type": "stream",
     "text": [
      "TITLE: AN ABSOLUTE DELIGHT! A CULINARY HAVEN!\n",
      "\n",
      "REVIEW:\n",
      "OH MY GOODNESS, WHERE DO I BEGIN? THIS RESTAURANT IS ABSOLUTELY PHENOMENAL! I WENT THERE LAST NIGHT WITH MY FRIENDS, AND WE WERE BLOWN AWAY BY THE EXPERIENCE!\n",
      "\n",
      "FIRST OF ALL, THE AMBIANCE IS OUT OF THIS WORLD! THE MOMENT YOU STEP INSIDE, YOU'RE GREETED WITH A WARM AND INVITING ATMOSPHERE. THE DECOR IS STUNNING, AND IT IMMEDIATELY SETS THE TONE FOR AN UNFORGETTABLE DINING EXPERIENCE.\n",
      "\n",
      "NOW, LET'S TALK ABOUT THE FOOD! WOW, JUST WOW! THE MENU IS A PARADISE FOR FOOD LOVERS. EVERY DISH WE ORDERED WAS A MASTERPIECE. THE FLAVORS WERE BOLD, VIBRANT, AND EXPLODED IN OUR MOUTHS. FROM STARTERS TO DESSERTS, EVERY BITE WAS PURE BLISS!\n",
      "\n",
      "THEIR SEAFOOD PLATTER IS A MUST-TRY! THE FRESHNESS OF THE SEAFOOD IS UNMATCHED, AND THE PRESENTATION IS SIMPLY STUNNING. I HAVE NEVER TASTED SUCH DELICIOUS AND PERFECTLY COOKED SEAFOOD IN MY LIFE. IT'S A SEAFOOD LOVER'S DREAM COME TRUE!\n",
      "\n",
      "THE SERVICE WAS EXEMPLARY. THE STAFF WAS ATTENTIVE, FRIENDLY, AND EXTREMELY KNOWLEDGEABLE ABOUT THE MENU. THEY WENT ABOVE AND BEYOND TO ENSURE THAT WE HAD THE BEST DINING EXPERIENCE POSSIBLE.\n",
      "\n",
      "AND LET'S NOT FORGET ABOUT THE DESSERTS! OH MY, OH MY! I HAD THEIR SIGNATURE CHOCOLATE LAVA CAKE, AND IT WAS PURE HEAVEN. THE CAKE WAS MOIST, AND WHEN I CUT INTO IT, THE WARM CHOCOLATE OOOZED OUT, CREATING AN EXPLOSION OF FLAVOR IN MY MOUTH. IT WAS LIKE A SYMPHONY OF CHOCOLATEY GOODNESS!\n",
      "\n",
      "IN CONCLUSION, THIS RESTAURANT IS A HIDDEN GEM! IF YOU WANT TO INDULGE IN A MEMORABLE DINING EXPERIENCE, DO YOURSELF A FAVOR AND VISIT THIS PLACE. YOU WON'T REGRET IT! I CAN'T WAIT TO GO BACK AND TRY MORE OF THEIR DELECTABLE DISHES. KUDOS TO THE ENTIRE TEAM FOR CREATING SUCH A CULINARY HAVEN!\n",
      "\n",
      "ALL I CAN SAY IS... WOOHOO!\n"
     ]
    }
   ],
   "source": [
    "print(yelp_review)"
   ]
  },
  {
   "cell_type": "code",
   "execution_count": 46,
   "id": "9679c483",
   "metadata": {},
   "outputs": [
    {
     "name": "stdout",
     "output_type": "stream",
     "text": [
      "\n",
      "oh my goodness, where do i begin? this restaurant is absolutely phenomenal! i went there last night with my friends, and we were blown away by the experience!\n",
      "\n",
      "first of all, the ambiance is out of this world! the moment you step inside, you're greeted with a warm and inviting atmosphere. the decor is stunning, and it immediately sets the tone for an unforgettable dining experience.\n",
      "\n",
      "now, let's talk about the food! wow, just wow! the menu is a paradise for food lovers. every dish we ordered was a masterpiece. the flavors were bold, vibrant, and exploded in our mouths. from starters to desserts, every bite was pure bliss!\n",
      "\n",
      "their seafood platter is a must-try! the freshness of the seafood is unmatched, and the presentation is simply stunning. i have never tasted such delicious and perfectly cooked seafood in my life. it's a seafood lover's dream come true!\n",
      "\n",
      "the service was exemplary. the staff was attentive, friendly, and extremely knowledgeable about the menu. they went above and beyond to ensure that we had the best dining experience possible.\n",
      "\n",
      "and let's not forget about the desserts! oh my, oh my! i had their signature chocolate lava cake, and it was pure heaven. the cake was moist, and when i cut into it, the warm chocolate ooozed out, creating an explosion of flavor in my mouth. it was like a symphony of chocolatey goodness!\n",
      "\n",
      "in conclusion, this restaurant is a hidden gem! if you want to indulge in a memorable dining experience, do yourself a favor and visit this place. you won't regret it! i can't wait to go back and try more of their delectable dishes. kudos to the entire team for creating such a culinary haven!\n",
      "\n",
      "all i can say is... woohoo!\n"
     ]
    }
   ],
   "source": [
    "# We want the text to be in lowercase and only the review section\n",
    "print(yelp_review.split(\"REVIEW:\")[-1].lower())"
   ]
  },
  {
   "cell_type": "code",
   "execution_count": 47,
   "id": "c7c18ff2",
   "metadata": {},
   "outputs": [],
   "source": [
    "# Now we want to do internal operations like Input --> custom python transformation --> LLMChain"
   ]
  },
  {
   "cell_type": "code",
   "execution_count": 48,
   "id": "6e4a3d96",
   "metadata": {},
   "outputs": [],
   "source": [
    "from langchain.chains import TransformChain, LLMChain, SimpleSequentialChain\n",
    "from langchain.chat_models import ChatOpenAI\n",
    "from langchain.prompts import ChatPromptTemplate"
   ]
  },
  {
   "cell_type": "code",
   "execution_count": 49,
   "id": "decb986e",
   "metadata": {},
   "outputs": [],
   "source": [
    "def transformer_fun(inputs: dict) -> dict:\n",
    "    text = inputs[\"text\"]\n",
    "    only_review_text = text.split(\"REVIEW\")[-1]\n",
    "    lower_case_text = only_review_text.lower()\n",
    "    return {\"output\": lower_case_text}"
   ]
  },
  {
   "cell_type": "code",
   "execution_count": 50,
   "id": "1baedfd5",
   "metadata": {},
   "outputs": [],
   "source": [
    "transform_chain = TransformChain(\n",
    "    input_variables=[\"text\"],\n",
    "    output_variables=[\"output\"],\n",
    "    transform=transformer_fun\n",
    ")"
   ]
  },
  {
   "cell_type": "code",
   "execution_count": 51,
   "id": "9b872302",
   "metadata": {},
   "outputs": [],
   "source": [
    "template = \"Create a one sentence summary of this review:\\n{review}\""
   ]
  },
  {
   "cell_type": "code",
   "execution_count": 52,
   "id": "0d8fd34b",
   "metadata": {},
   "outputs": [],
   "source": [
    "llm = ChatOpenAI()\n",
    "prompt = ChatPromptTemplate.from_template(template)\n",
    "summary_chain = LLMChain(llm=llm, prompt=prompt, output_key=\"review_summary\")"
   ]
  },
  {
   "cell_type": "code",
   "execution_count": 53,
   "id": "cbe52945",
   "metadata": {},
   "outputs": [],
   "source": [
    "sequential_chain = SimpleSequentialChain(\n",
    "    chains=[transform_chain, summary_chain],\n",
    "    verbose=True\n",
    ")"
   ]
  },
  {
   "cell_type": "code",
   "execution_count": 54,
   "id": "17cadb7c",
   "metadata": {},
   "outputs": [
    {
     "name": "stdout",
     "output_type": "stream",
     "text": [
      "\n",
      "\n",
      "\u001b[1m> Entering new SimpleSequentialChain chain...\u001b[0m\n",
      "\u001b[36;1m\u001b[1;3m:\n",
      "oh my goodness, where do i begin? this restaurant is absolutely phenomenal! i went there last night with my friends, and we were blown away by the experience!\n",
      "\n",
      "first of all, the ambiance is out of this world! the moment you step inside, you're greeted with a warm and inviting atmosphere. the decor is stunning, and it immediately sets the tone for an unforgettable dining experience.\n",
      "\n",
      "now, let's talk about the food! wow, just wow! the menu is a paradise for food lovers. every dish we ordered was a masterpiece. the flavors were bold, vibrant, and exploded in our mouths. from starters to desserts, every bite was pure bliss!\n",
      "\n",
      "their seafood platter is a must-try! the freshness of the seafood is unmatched, and the presentation is simply stunning. i have never tasted such delicious and perfectly cooked seafood in my life. it's a seafood lover's dream come true!\n",
      "\n",
      "the service was exemplary. the staff was attentive, friendly, and extremely knowledgeable about the menu. they went above and beyond to ensure that we had the best dining experience possible.\n",
      "\n",
      "and let's not forget about the desserts! oh my, oh my! i had their signature chocolate lava cake, and it was pure heaven. the cake was moist, and when i cut into it, the warm chocolate ooozed out, creating an explosion of flavor in my mouth. it was like a symphony of chocolatey goodness!\n",
      "\n",
      "in conclusion, this restaurant is a hidden gem! if you want to indulge in a memorable dining experience, do yourself a favor and visit this place. you won't regret it! i can't wait to go back and try more of their delectable dishes. kudos to the entire team for creating such a culinary haven!\n",
      "\n",
      "all i can say is... woohoo!\u001b[0m\n",
      "\u001b[33;1m\u001b[1;3mThis restaurant offers a phenomenal dining experience with stunning ambiance, delicious food, and exemplary service that is sure to leave you wanting more.\u001b[0m\n",
      "\n",
      "\u001b[1m> Finished chain.\u001b[0m\n"
     ]
    }
   ],
   "source": [
    "result = sequential_chain(yelp_review)"
   ]
  },
  {
   "cell_type": "code",
   "execution_count": 55,
   "id": "37b3e096",
   "metadata": {},
   "outputs": [
    {
     "name": "stdout",
     "output_type": "stream",
     "text": [
      "This restaurant offers a phenomenal dining experience with stunning ambiance, delicious food, and exemplary service that is sure to leave you wanting more.\n"
     ]
    }
   ],
   "source": [
    "print(result[\"output\"])"
   ]
  },
  {
   "cell_type": "markdown",
   "id": "0ef52f72",
   "metadata": {},
   "source": [
    "## Math Chain"
   ]
  },
  {
   "cell_type": "code",
   "execution_count": 56,
   "id": "e99bade4",
   "metadata": {},
   "outputs": [],
   "source": [
    "from langchain.chat_models import ChatOpenAI\n",
    "from langchain.prompts import ChatPromptTemplate, HumanMessagePromptTemplate\n",
    "from langchain.schema import HumanMessage"
   ]
  },
  {
   "cell_type": "code",
   "execution_count": 57,
   "id": "bf834653",
   "metadata": {},
   "outputs": [],
   "source": [
    "model = ChatOpenAI()\n",
    "result = model([HumanMessage(content=\"What is 2 + 2\")])"
   ]
  },
  {
   "cell_type": "code",
   "execution_count": 59,
   "id": "66dc0107",
   "metadata": {},
   "outputs": [
    {
     "name": "stdout",
     "output_type": "stream",
     "text": [
      "2 + 2 equals 4.\n"
     ]
    }
   ],
   "source": [
    "print(result.content)"
   ]
  },
  {
   "cell_type": "code",
   "execution_count": 60,
   "id": "bfa380b6",
   "metadata": {},
   "outputs": [
    {
     "data": {
      "text/plain": [
       "34271896307633"
      ]
     },
     "execution_count": 60,
     "metadata": {},
     "output_type": "execute_result"
    }
   ],
   "source": [
    "17**11"
   ]
  },
  {
   "cell_type": "code",
   "execution_count": 62,
   "id": "7b2ed236",
   "metadata": {},
   "outputs": [
    {
     "name": "stdout",
     "output_type": "stream",
     "text": [
      "17^11 is equal to 1,420,475,085,111\n"
     ]
    }
   ],
   "source": [
    "result = model([HumanMessage(content=\"What is 17 raised to the power of 11\")])\n",
    "print(result.content)\n",
    "#Hallucinated the result"
   ]
  },
  {
   "cell_type": "code",
   "execution_count": 65,
   "id": "3d9ed716",
   "metadata": {},
   "outputs": [],
   "source": [
    "from langchain import LLMMathChain\n",
    "llm_math_model = LLMMathChain.from_llm(model)"
   ]
  },
  {
   "cell_type": "code",
   "execution_count": 66,
   "id": "1a1e7815",
   "metadata": {},
   "outputs": [
    {
     "data": {
      "text/plain": [
       "{'question': 'What is 17 raised to the power of 11',\n",
       " 'answer': 'Answer: 34271896307633'}"
      ]
     },
     "execution_count": 66,
     "metadata": {},
     "output_type": "execute_result"
    }
   ],
   "source": [
    "llm_math_model(\"What is 17 raised to the power of 11\")"
   ]
  },
  {
   "cell_type": "markdown",
   "id": "1a93e684",
   "metadata": {},
   "source": [
    "## Additional chains - QA Documents\n",
    "\n",
    "There are some additional pre-built chains, let's explore examples for two of the most commonly used chains for documents QA. "
   ]
  },
  {
   "cell_type": "code",
   "execution_count": 67,
   "id": "8bda2dc0",
   "metadata": {},
   "outputs": [],
   "source": [
    "# Vector store\n",
    "# QA on that vector store\n",
    "from langchain.embeddings.openai import OpenAIEmbeddings\n",
    "from langchain.vectorstores import Chroma"
   ]
  },
  {
   "cell_type": "code",
   "execution_count": 79,
   "id": "b6a30b82",
   "metadata": {},
   "outputs": [],
   "source": [
    "embedding_function = OpenAIEmbeddings()\n",
    "db_connection = Chroma(persist_directory=\"US_Constitution\", embedding_function=embedding_function)"
   ]
  },
  {
   "cell_type": "code",
   "execution_count": 80,
   "id": "83e22778",
   "metadata": {},
   "outputs": [],
   "source": [
    "from langchain.chains.question_answering import load_qa_chain\n",
    "from langchain.chains.qa_with_sources import load_qa_with_sources_chain # very similar, more metadata\n",
    "from langchain.chat_models import ChatOpenAI\n",
    "llm = ChatOpenAI(temperature=0)"
   ]
  },
  {
   "cell_type": "code",
   "execution_count": 81,
   "id": "09459d59",
   "metadata": {},
   "outputs": [],
   "source": [
    "chain = load_qa_chain(\n",
    "    llm=llm,\n",
    "    chain_type=\"stuff\"  # stuffing in some context from vector store\n",
    ")"
   ]
  },
  {
   "cell_type": "code",
   "execution_count": 82,
   "id": "39c491ea",
   "metadata": {},
   "outputs": [],
   "source": [
    "question = \"What is the 15th amendment?\""
   ]
  },
  {
   "cell_type": "code",
   "execution_count": 83,
   "id": "eb30d903",
   "metadata": {},
   "outputs": [
    {
     "data": {
      "text/plain": [
       "'The 15th Amendment states that the right of citizens of the United States to vote shall not be denied or abridged by the United States or by any State on account of race, color, or previous condition of servitude.\\nSOURCES: some_data/US_Constitution.txt'"
      ]
     },
     "execution_count": 83,
     "metadata": {},
     "output_type": "execute_result"
    }
   ],
   "source": [
    "docs = db_connection.similarity_search(question)  # Document that will be context\n",
    "chain = load_qa_with_sources_chain(llm, chain_type=\"stuff\")\n",
    "chain.run(\n",
    "    input_documents=docs,\n",
    "    question=question\n",
    ")"
   ]
  },
  {
   "cell_type": "code",
   "execution_count": null,
   "id": "ea8fe11b",
   "metadata": {},
   "outputs": [],
   "source": []
  }
 ],
 "metadata": {
  "kernelspec": {
   "display_name": "Python 3 (ipykernel)",
   "language": "python",
   "name": "python3"
  },
  "language_info": {
   "codemirror_mode": {
    "name": "ipython",
    "version": 3
   },
   "file_extension": ".py",
   "mimetype": "text/x-python",
   "name": "python",
   "nbconvert_exporter": "python",
   "pygments_lexer": "ipython3",
   "version": "3.10.9"
  }
 },
 "nbformat": 4,
 "nbformat_minor": 5
}
