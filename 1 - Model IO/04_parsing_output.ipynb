{
 "cells": [
  {
   "cell_type": "markdown",
   "id": "e2128d1c-62d1-4681-abe1-754a1410e632",
   "metadata": {},
   "source": [
    "# Parsing Output\n",
    "\n",
    "Often we may need the LLM output to be in a specific format, e.g a datetime object or a json object.\n",
    "\n",
    "Langchain allows to easily convert the LLM outputs in precise data types or even in custom class instances using Pydantic."
   ]
  },
  {
   "cell_type": "code",
   "execution_count": 2,
   "id": "e2d81e4f-8739-4a19-abf9-7515304fc0a9",
   "metadata": {},
   "outputs": [],
   "source": [
    "from langchain.prompts import PromptTemplate, SystemMessagePromptTemplate,ChatPromptTemplate, HumanMessagePromptTemplate\n",
    "from langchain.llms import OpenAI\n",
    "from langchain.chat_models import ChatOpenAI"
   ]
  },
  {
   "cell_type": "code",
   "execution_count": 19,
   "id": "8ec8ca5d",
   "metadata": {},
   "outputs": [],
   "source": [
    "openai_api_key = os.getenv(key=\"OPENAI_API_KEY\")\n",
    "chat = ChatOpenAI(openai_api_key=openai_api_key)"
   ]
  },
  {
   "cell_type": "markdown",
   "id": "23b9587d",
   "metadata": {},
   "source": [
    "Parsers consist of two key elements:\n",
    "\n",
    "1) format_instructions: An extra string that Langchain adds to the end of a prompt to assist with formatting.\n",
    "2) parse() method: A method for using eval() internally to parse the string reply to the exact Python object needed."
   ]
  },
  {
   "cell_type": "markdown",
   "id": "7a7b37ab-4548-4a6f-a3da-77af6068ea3a",
   "metadata": {
    "tags": []
   },
   "source": [
    "## List Parsing "
   ]
  },
  {
   "cell_type": "code",
   "execution_count": 6,
   "id": "7ec14645-3d85-4cde-abf4-b3afc5248278",
   "metadata": {},
   "outputs": [],
   "source": [
    "# Step 1: Import the parser and create the parser instance\n",
    "from langchain.output_parsers import CommaSeparatedListOutputParser\n",
    "output_parser = CommaSeparatedListOutputParser()"
   ]
  },
  {
   "cell_type": "code",
   "execution_count": 11,
   "id": "1ad58ba7-8369-4a8e-92b1-557a931515a2",
   "metadata": {},
   "outputs": [
    {
     "name": "stdout",
     "output_type": "stream",
     "text": [
      "Your response should be a list of comma separated values, eg: `foo, bar, baz`\n"
     ]
    }
   ],
   "source": [
    "# Step 2: Format instructions\n",
    "format_instructions = output_parser.get_format_instructions()\n",
    "print(format_instructions)\n",
    "\n",
    "# It's giving the model instructions on how should be the response!"
   ]
  },
  {
   "cell_type": "code",
   "execution_count": 13,
   "id": "545527d3-5556-4558-8835-8efdb76e8010",
   "metadata": {},
   "outputs": [
    {
     "data": {
      "text/plain": [
       "['one', 'two', 'three']"
      ]
     },
     "execution_count": 13,
     "metadata": {},
     "output_type": "execute_result"
    }
   ],
   "source": [
    "# Test the parser\n",
    "reply = \"one, two, three\"\n",
    "output_parser.parse(\"one, two, three\")"
   ]
  },
  {
   "cell_type": "code",
   "execution_count": 14,
   "id": "19ad7894-8a81-46ce-ba3d-3aceb7d4f7b9",
   "metadata": {},
   "outputs": [],
   "source": [
    "# Now for the human template we use the request and also the format_instructions in the end, separated by a space.\n",
    "human_template = '{request} {format_instructions}'\n",
    "human_prompt = HumanMessagePromptTemplate.from_template(human_template)"
   ]
  },
  {
   "cell_type": "code",
   "execution_count": 15,
   "id": "a8b091bf-3931-42da-be46-f1bb9ba186ce",
   "metadata": {},
   "outputs": [
    {
     "data": {
      "text/plain": [
       "ChatPromptValue(messages=[HumanMessage(content='give me 5 characteristics of dogs Your response should be a list of comma separated values, eg: `foo, bar, baz`')])"
      ]
     },
     "execution_count": 15,
     "metadata": {},
     "output_type": "execute_result"
    }
   ],
   "source": [
    "chat_prompt = ChatPromptTemplate.from_messages([human_prompt])\n",
    "\n",
    "chat_prompt.format_prompt(request=\"give me 5 characteristics of dogs\",format_instructions = output_parser.get_format_instructions())"
   ]
  },
  {
   "cell_type": "code",
   "execution_count": 16,
   "id": "535031e5-61c2-4b6b-9d0e-36cf2f3d469d",
   "metadata": {},
   "outputs": [],
   "source": [
    "request = chat_prompt.format_prompt(request=\"give me 5 characteristics of dogs\",format_instructions = output_parser.get_format_instructions()).to_messages()"
   ]
  },
  {
   "cell_type": "code",
   "execution_count": 20,
   "id": "71b52ed0-5178-4ca4-8317-e1ca590bf460",
   "metadata": {},
   "outputs": [],
   "source": [
    "result = chat(request)"
   ]
  },
  {
   "cell_type": "code",
   "execution_count": 21,
   "id": "ae2b14fd-941e-4412-a916-04e3d1e886e0",
   "metadata": {},
   "outputs": [
    {
     "data": {
      "text/plain": [
       "'Loyal, playful, protective, social, intelligent'"
      ]
     },
     "execution_count": 21,
     "metadata": {},
     "output_type": "execute_result"
    }
   ],
   "source": [
    "result.content"
   ]
  },
  {
   "cell_type": "code",
   "execution_count": 22,
   "id": "a35378ea-891a-4c47-b3eb-06aa9854f1d5",
   "metadata": {},
   "outputs": [
    {
     "data": {
      "text/plain": [
       "['Loyal', 'playful', 'protective', 'social', 'intelligent']"
      ]
     },
     "execution_count": 22,
     "metadata": {},
     "output_type": "execute_result"
    }
   ],
   "source": [
    "# Convert to desired output:\n",
    "output_parser.parse(result.content)"
   ]
  },
  {
   "cell_type": "markdown",
   "id": "f7dc1d92-0e0d-4703-82f4-47b1b816e967",
   "metadata": {},
   "source": [
    "## Datetime Parser "
   ]
  },
  {
   "cell_type": "code",
   "execution_count": 23,
   "id": "7181df9f-691f-4bd2-af8f-ebe4b2c6d78b",
   "metadata": {},
   "outputs": [],
   "source": [
    "from langchain.output_parsers import DatetimeOutputParser"
   ]
  },
  {
   "cell_type": "code",
   "execution_count": 24,
   "id": "2a7bf62c-c78d-4417-a56e-adf545649f8e",
   "metadata": {},
   "outputs": [],
   "source": [
    "output_parser = DatetimeOutputParser()"
   ]
  },
  {
   "cell_type": "code",
   "execution_count": 25,
   "id": "02b918ea-62f0-457a-bdb1-e923b8d30ae3",
   "metadata": {},
   "outputs": [
    {
     "name": "stdout",
     "output_type": "stream",
     "text": [
      "Write a datetime string that matches the following pattern: '%Y-%m-%dT%H:%M:%S.%fZ'.\n",
      "\n",
      "Examples: 0343-02-24T16:31:50.909073Z, 0254-02-18T22:20:23.816815Z, 0712-09-22T16:05:33.529778Z\n",
      "\n",
      "Return ONLY this string, no other words!\n"
     ]
    }
   ],
   "source": [
    "print(output_parser.get_format_instructions())"
   ]
  },
  {
   "cell_type": "code",
   "execution_count": 26,
   "id": "1d25e7ac-4d85-4cae-9401-a05c444be675",
   "metadata": {},
   "outputs": [],
   "source": [
    "template_text = \"{request}\\n{format_instructions}\"\n",
    "human_prompt=HumanMessagePromptTemplate.from_template(template_text)"
   ]
  },
  {
   "cell_type": "code",
   "execution_count": 27,
   "id": "6f17e9dd-d5bf-4f60-8d66-845d27794cb2",
   "metadata": {},
   "outputs": [],
   "source": [
    "chat_prompt = ChatPromptTemplate.from_messages([human_prompt])"
   ]
  },
  {
   "cell_type": "code",
   "execution_count": 28,
   "id": "d6d5d104-1ccf-484a-9d65-81b89f066ca2",
   "metadata": {},
   "outputs": [
    {
     "name": "stdout",
     "output_type": "stream",
     "text": [
      "Human: When was the 13th Amendment ratified in the US?\n",
      "Write a datetime string that matches the following pattern: '%Y-%m-%dT%H:%M:%S.%fZ'.\n",
      "\n",
      "Examples: 1665-08-11T06:16:51.355942Z, 1767-11-20T15:39:12.343483Z, 0068-08-04T05:09:05.387194Z\n",
      "\n",
      "Return ONLY this string, no other words!\n"
     ]
    }
   ],
   "source": [
    "print(chat_prompt.format(request=\"When was the 13th Amendment ratified in the US?\",\n",
    "                   format_instructions=output_parser.get_format_instructions()\n",
    "                   ))"
   ]
  },
  {
   "cell_type": "code",
   "execution_count": 29,
   "id": "2fb47b36-22f9-4255-8f7d-1fe5f3e4fd69",
   "metadata": {},
   "outputs": [],
   "source": [
    "request = chat_prompt.format_prompt(request=\"What date was the 13th Amendment ratified in the US?\",\n",
    "                   format_instructions=output_parser.get_format_instructions()\n",
    "                   ).to_messages()"
   ]
  },
  {
   "cell_type": "code",
   "execution_count": 34,
   "id": "81091194-52ea-4c85-b899-48146d434c53",
   "metadata": {},
   "outputs": [],
   "source": [
    "result = chat(request,temperature=0)"
   ]
  },
  {
   "cell_type": "code",
   "execution_count": 37,
   "id": "9a5227a5-cd36-4f8f-b93b-8281ddbfe7ac",
   "metadata": {},
   "outputs": [
    {
     "data": {
      "text/plain": [
       "'1865-12-06T00:00:00.000000Z'"
      ]
     },
     "execution_count": 37,
     "metadata": {},
     "output_type": "execute_result"
    }
   ],
   "source": [
    "result.content"
   ]
  },
  {
   "cell_type": "code",
   "execution_count": 38,
   "id": "8d27d13a-0ee7-4cd7-adb7-67f29e519b10",
   "metadata": {},
   "outputs": [
    {
     "data": {
      "text/plain": [
       "datetime.datetime(1865, 12, 6, 0, 0)"
      ]
     },
     "execution_count": 38,
     "metadata": {},
     "output_type": "execute_result"
    }
   ],
   "source": [
    "output_parser.parse(result.content)"
   ]
  },
  {
   "cell_type": "markdown",
   "id": "f8ee5cd6-931d-4b06-963a-19d5e69a1f2b",
   "metadata": {},
   "source": [
    "---\n",
    "\n",
    "# Methods to Fix Parsing Issues\n",
    "\n",
    "## Auto-Fix Parser"
   ]
  },
  {
   "cell_type": "markdown",
   "id": "ab9f8f82",
   "metadata": {},
   "source": [
    "Sometimes the LLM response is not in the expected format. For example, it could have been:\n",
    "\n",
    "The 13th Amendment was ratified in the US on December 6, 1865.\n",
    "\n",
    "The datetime string that matches the given pattern is: \"1865-12-06T00:00:00.000000Z\"\n",
    "\n",
    "In this case, we would need to fix the parsing issues.\n",
    "\n",
    "An OutputFixingParser uses a chain and re-sends the original reply to an LLM to fix it."
   ]
  },
  {
   "cell_type": "code",
   "execution_count": 39,
   "id": "43dcc805-e48f-488f-81fb-1ae25c0482be",
   "metadata": {},
   "outputs": [],
   "source": [
    "from langchain.output_parsers import OutputFixingParser\n",
    "\n",
    "output_parser = DatetimeOutputParser()\n",
    "\n",
    "misformatted = 'The 13th Amendment was ratified in the US on December 6, 1865. The datetime string that matches the given pattern is: \"1865-12-06T00:00:00.000000Z\"'"
   ]
  },
  {
   "cell_type": "code",
   "execution_count": 45,
   "id": "d6e43db4-2e75-4902-95e9-07a82688ce8d",
   "metadata": {},
   "outputs": [],
   "source": [
    "new_parser = OutputFixingParser.from_llm(parser=output_parser, llm=chat)"
   ]
  },
  {
   "cell_type": "code",
   "execution_count": 46,
   "id": "9b91f188-cca3-4659-8e09-9defac58afd9",
   "metadata": {},
   "outputs": [
    {
     "data": {
      "text/plain": [
       "datetime.datetime(1865, 12, 6, 0, 0)"
      ]
     },
     "execution_count": 46,
     "metadata": {},
     "output_type": "execute_result"
    }
   ],
   "source": [
    "new_parser.parse(misformatted)"
   ]
  },
  {
   "cell_type": "markdown",
   "id": "b1e590db-90dc-47db-8341-44491916fc90",
   "metadata": {},
   "source": [
    "____\n",
    "### Fixing via a strong System Prompt:"
   ]
  },
  {
   "cell_type": "code",
   "execution_count": 136,
   "id": "d7714f2d-1063-44bc-9ad0-ab1f578a4143",
   "metadata": {},
   "outputs": [],
   "source": [
    "system_prompt = SystemMessagePromptTemplate.from_template(\"You always reply to questions only in datetime patterns.\")\n",
    "template_text = \"{request}\\n{format_instructions}\"\n",
    "human_prompt=HumanMessagePromptTemplate.from_template(template_text)"
   ]
  },
  {
   "cell_type": "code",
   "execution_count": 48,
   "id": "7da6108f",
   "metadata": {},
   "outputs": [],
   "source": [
    "human_template = \"{request}\\n{format_instructions}\"\n",
    "human_prompt = HumanMessagePromptTemplate.from_template(human_template)\n",
    "\n",
    "system_template = \"You always reply to questions only in datetime pattern and no more text.\"\n",
    "system_prompt = HumanMessagePromptTemplate.from_template(system_template)\n",
    "\n",
    "chat_prompt = ChatPromptTemplate.from_messages([system_prompt, human_prompt])"
   ]
  },
  {
   "cell_type": "code",
   "execution_count": 49,
   "id": "3c6f90f1",
   "metadata": {},
   "outputs": [],
   "source": [
    "model_request = chat_prompt.format_prompt(\n",
    "    request=\"What date was the 13th Amendment ratified in the US?\",\n",
    "    format_instructions=output_parser.get_format_instructions(),\n",
    ").to_messages()"
   ]
  },
  {
   "cell_type": "code",
   "execution_count": 50,
   "id": "9a2ec129-ab30-41c1-94e5-988c4e179ef3",
   "metadata": {},
   "outputs": [
    {
     "name": "stdout",
     "output_type": "stream",
     "text": [
      "1865-12-06T00:00:00.000000Z\n"
     ]
    }
   ],
   "source": [
    "result = chat(model_request, temperature=0)\n",
    "print(result.content)"
   ]
  },
  {
   "cell_type": "code",
   "execution_count": 51,
   "id": "7e9f115d-78aa-4e48-9b5d-9ac4914b84bd",
   "metadata": {},
   "outputs": [
    {
     "data": {
      "text/plain": [
       "datetime.datetime(1865, 12, 6, 0, 0)"
      ]
     },
     "execution_count": 51,
     "metadata": {},
     "output_type": "execute_result"
    }
   ],
   "source": [
    "output_parser.parse(result.content)"
   ]
  },
  {
   "cell_type": "markdown",
   "id": "e874ded7-a158-425e-b946-474845a12b72",
   "metadata": {},
   "source": [
    "## Pydantic JSON Parser"
   ]
  },
  {
   "cell_type": "code",
   "execution_count": 77,
   "id": "279dff90-27f2-424a-8683-fe030f2827df",
   "metadata": {},
   "outputs": [],
   "source": [
    "from langchain.output_parsers import PydanticOutputParser\n",
    "from pydantic import BaseModel, Field"
   ]
  },
  {
   "cell_type": "code",
   "execution_count": 53,
   "id": "fc5f5225-633a-4c71-a6b4-c46b376c9207",
   "metadata": {},
   "outputs": [],
   "source": [
    "from pydantic import BaseModel, Field"
   ]
  },
  {
   "cell_type": "code",
   "execution_count": 59,
   "id": "2685a18e-cf09-4a92-8380-81feda164740",
   "metadata": {},
   "outputs": [],
   "source": [
    "class Scientist(BaseModel):\n",
    "    name: str = Field(description=\"Name of a Scientist\")\n",
    "    discoveries: list[str] = Field(description=\"Python list of discoveries\")"
   ]
  },
  {
   "cell_type": "code",
   "execution_count": null,
   "id": "fb235141",
   "metadata": {},
   "outputs": [],
   "source": [
    "query = 'Name a famous scientist and a list of their discoveries' "
   ]
  },
  {
   "cell_type": "code",
   "execution_count": null,
   "id": "36b4d822",
   "metadata": {},
   "outputs": [
    {
     "name": "stdout",
     "output_type": "stream",
     "text": [
      "The output should be formatted as a JSON instance that conforms to the JSON schema below.\n",
      "\n",
      "As an example, for the schema {\"properties\": {\"foo\": {\"title\": \"Foo\", \"description\": \"a list of strings\", \"type\": \"array\", \"items\": {\"type\": \"string\"}}}, \"required\": [\"foo\"]}}\n",
      "the object {\"foo\": [\"bar\", \"baz\"]} is a well-formatted instance of the schema. The object {\"properties\": {\"foo\": [\"bar\", \"baz\"]}} is not well-formatted.\n",
      "\n",
      "Here is the output schema:\n",
      "```\n",
      "{\"properties\": {\"name\": {\"title\": \"Name\", \"description\": \"Name of a Scientist\", \"type\": \"string\"}, \"discoveries\": {\"title\": \"Discoveries\", \"description\": \"Python list of discoveries\", \"type\": \"array\", \"items\": {}}}, \"required\": [\"name\", \"discoveries\"]}\n",
      "```\n"
     ]
    }
   ],
   "source": [
    "parser = PydanticOutputParser(pydantic_object=Scientist)\n",
    "print(parser.get_format_instructions())"
   ]
  },
  {
   "cell_type": "code",
   "execution_count": 75,
   "id": "07770971-eafe-479f-b632-9dc33759e0da",
   "metadata": {},
   "outputs": [
    {
     "data": {
      "text/plain": [
       "Scientist(name='Albert Einstein', discoveries=['Theory of Relativity', 'Photoelectric Effect', 'Brownian Motion'])"
      ]
     },
     "execution_count": 75,
     "metadata": {},
     "output_type": "execute_result"
    }
   ],
   "source": [
    "prompt = PromptTemplate(\n",
    "    template=\"Answer the user query.\\n{format_instructions}\\n{query}\\n\",\n",
    "    input_variables=[\"query\"],\n",
    "    partial_variables={\"format_instructions\": parser.get_format_instructions()},\n",
    ")\n",
    "\n",
    "_input = prompt.format_prompt(query=\"Tell me about a famous scientist\")\n",
    "\n",
    "output = model(_input.to_string())\n",
    "\n",
    "parser.parse(output)"
   ]
  }
 ],
 "metadata": {
  "kernelspec": {
   "display_name": "Python 3 (ipykernel)",
   "language": "python",
   "name": "python3"
  },
  "language_info": {
   "codemirror_mode": {
    "name": "ipython",
    "version": 3
   },
   "file_extension": ".py",
   "mimetype": "text/x-python",
   "name": "python",
   "nbconvert_exporter": "python",
   "pygments_lexer": "ipython3",
   "version": "3.10.9"
  }
 },
 "nbformat": 4,
 "nbformat_minor": 5
}
