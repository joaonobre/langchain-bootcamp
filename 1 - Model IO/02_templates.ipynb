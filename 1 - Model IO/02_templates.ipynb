{
 "cells": [
  {
   "cell_type": "code",
   "execution_count": 7,
   "id": "bdb72664-ce8d-4d88-b003-8a930ff2c2ab",
   "metadata": {},
   "outputs": [],
   "source": [
    "from langchain.llms import OpenAI\n",
    "import os"
   ]
  },
  {
   "cell_type": "code",
   "execution_count": 9,
   "id": "b247756c",
   "metadata": {},
   "outputs": [],
   "source": [
    "openai_api_key = os.getenv(key=\"OPENAI_API_KEY\")\n",
    "llm = OpenAI(openai_api_key=openai_api_key)"
   ]
  },
  {
   "cell_type": "markdown",
   "id": "38d37ccf-99d2-4aa6-ab73-0bd22e55b7b6",
   "metadata": {
    "tags": []
   },
   "source": [
    "## Language Model Templates"
   ]
  },
  {
   "cell_type": "code",
   "execution_count": 10,
   "id": "f5e9d77e",
   "metadata": {},
   "outputs": [
    {
     "data": {
      "text/plain": [
       "' Saturn is the sixth planet from the Sun and the second largest planet in our solar system. It is known for its iconic rings made of ice and rock particles, which can be seen from Earth through a telescope. Saturn has at least 82 moons, with the largest being Titan. The planet has a thick atmosphere primarily made of hydrogen and helium, and it has the fastest winds in the solar system, reaching speeds of up to 1,100 miles per hour. Saturn has been explored by multiple spacecraft, including the Cassini-Huygens mission which arrived in 2004 and provided detailed images and data about the planet and its moons.'"
      ]
     },
     "execution_count": 10,
     "metadata": {},
     "output_type": "execute_result"
    }
   ],
   "source": [
    "planet = \"Saturn\"\n",
    "\n",
    "llm(f\"Here is a fact about {planet}:\")"
   ]
  },
  {
   "cell_type": "code",
   "execution_count": 10,
   "id": "1e34d990-cc7c-47f6-a191-854a575aabca",
   "metadata": {},
   "outputs": [
    {
     "data": {
      "text/plain": [
       "'Tell me a fact'"
      ]
     },
     "execution_count": 10,
     "metadata": {},
     "output_type": "execute_result"
    }
   ],
   "source": [
    "from langchain import PromptTemplate\n",
    "\n",
    "no_input_prompt = PromptTemplate(input_variables=[], template=\"Tell me a fact\")\n",
    "no_input_prompt.format()"
   ]
  },
  {
   "cell_type": "code",
   "execution_count": 12,
   "id": "e21140ce",
   "metadata": {},
   "outputs": [
    {
     "data": {
      "text/plain": [
       "'\\n\\nThe shortest war in history lasted only 38 minutes. It was between Great Britain and Zanzibar on August 27, 1896.'"
      ]
     },
     "execution_count": 12,
     "metadata": {},
     "output_type": "execute_result"
    }
   ],
   "source": [
    "llm(no_input_prompt.format())"
   ]
  },
  {
   "cell_type": "code",
   "execution_count": 11,
   "id": "361467f3-81d3-4553-9a22-1198f44598c0",
   "metadata": {},
   "outputs": [],
   "source": [
    "single_input_prompt = PromptTemplate(\n",
    "    input_variables=[\"topic\"], template=\"Tell me a fact about {topic}.\"\n",
    ")"
   ]
  },
  {
   "cell_type": "code",
   "execution_count": 12,
   "id": "5386f886",
   "metadata": {},
   "outputs": [
    {
     "data": {
      "text/plain": [
       "\"\\n\\nThe bottom of the ocean, also known as the seafloor, covers approximately 70% of the Earth's surface and contains the longest mountain range in the world, known as the Mid-Ocean Ridge.\""
      ]
     },
     "execution_count": 12,
     "metadata": {},
     "output_type": "execute_result"
    }
   ],
   "source": [
    "llm(single_input_prompt.format(topic=\"the bottom of the ocean\"))"
   ]
  },
  {
   "cell_type": "code",
   "execution_count": 14,
   "id": "aba25263-4b12-40d8-8c56-e21b9bc37891",
   "metadata": {},
   "outputs": [],
   "source": [
    "multi_input_prompt = PromptTemplate(\n",
    "    input_variables=[\"topic\", \"level\"],\n",
    "    template=\"Tell me a fact about {topic} for a {level} student.\",\n",
    ")"
   ]
  },
  {
   "cell_type": "code",
   "execution_count": 17,
   "id": "30bd3148",
   "metadata": {},
   "outputs": [
    {
     "data": {
      "text/plain": [
       "'\\n\\nThe bottom of the ocean is called the \"seafloor\" and it is covered in sand, rocks, and plants just like the land on Earth.'"
      ]
     },
     "execution_count": 17,
     "metadata": {},
     "output_type": "execute_result"
    }
   ],
   "source": [
    "llm(multi_input_prompt.format(topic=\"the bottom of the ocean\", level=\"2nd grade\"))"
   ]
  },
  {
   "cell_type": "markdown",
   "id": "61d47473-7d74-4bbf-875e-898bc9cdb1ec",
   "metadata": {},
   "source": [
    "# Chat Model Templates\n",
    "\n",
    "Chat models require prompts consisting of chat messages with assigned roles such as AI, human, or system. \n",
    "\n",
    "The OpenAI Chat Completion API assigns roles to messages, with the model focusing more on instructions from system messages.\n",
    "\n",
    "LangChain provides prompt templates for easier prompt construction, recommended over PromptTemplate for better interaction with chat models."
   ]
  },
  {
   "cell_type": "code",
   "execution_count": 25,
   "id": "923b8070-19ab-4972-89f0-57b6e56053fb",
   "metadata": {},
   "outputs": [],
   "source": [
    "from langchain.prompts import (\n",
    "    ChatPromptTemplate,\n",
    "    PromptTemplate,\n",
    "    SystemMessagePromptTemplate,\n",
    "    AIMessagePromptTemplate,\n",
    "    HumanMessagePromptTemplate,\n",
    ")\n",
    "from langchain.schema import (\n",
    "    AIMessage,\n",
    "    HumanMessage,\n",
    "    SystemMessage\n",
    ")\n",
    "\n",
    "from langchain.chat_models import ChatOpenAI\n",
    "\n",
    "chat = ChatOpenAI(openai_api_key=openai_api_key)"
   ]
  },
  {
   "cell_type": "code",
   "execution_count": 31,
   "id": "cbc8eeab-11ff-4c46-b69b-e963066980d0",
   "metadata": {},
   "outputs": [],
   "source": [
    "system_template = \"You are an AI recipe assistant that specializes in {dietary_preference} dishes that can be prepared in {cooking_time}.\"\n",
    "human_template = \"{recipe_request}\"\n",
    "\n",
    "system_message_prompt = SystemMessagePromptTemplate.from_template(\n",
    "    template=system_template\n",
    ")\n",
    "human_message_prompt = HumanMessagePromptTemplate.from_template(template=human_template)"
   ]
  },
  {
   "cell_type": "markdown",
   "id": "97a82011",
   "metadata": {},
   "source": [
    "The human message is what the user asks the assistant"
   ]
  },
  {
   "cell_type": "code",
   "execution_count": 20,
   "id": "d93298f9-18d3-43af-bc23-633f5f3ab269",
   "metadata": {},
   "outputs": [
    {
     "name": "stdout",
     "output_type": "stream",
     "text": [
      "['cooking_time', 'dietary_preference']\n",
      "['recipe_request']\n"
     ]
    }
   ],
   "source": [
    "print(system_message_prompt.input_variables)\n",
    "print(human_message_prompt.input_variables)"
   ]
  },
  {
   "cell_type": "code",
   "execution_count": 21,
   "id": "2348e5e3-e878-403a-94e9-be61359fbb44",
   "metadata": {},
   "outputs": [],
   "source": [
    "chat_prompt = ChatPromptTemplate.from_messages([system_message_prompt, human_message_prompt])"
   ]
  },
  {
   "cell_type": "code",
   "execution_count": 22,
   "id": "d01b14b6-f422-4a08-bd0e-bba0f494563d",
   "metadata": {},
   "outputs": [
    {
     "data": {
      "text/plain": [
       "['cooking_time', 'dietary_preference', 'recipe_request']"
      ]
     },
     "execution_count": 22,
     "metadata": {},
     "output_type": "execute_result"
    }
   ],
   "source": [
    "chat_prompt.input_variables"
   ]
  },
  {
   "cell_type": "code",
   "execution_count": 28,
   "id": "01c2f6c5",
   "metadata": {},
   "outputs": [],
   "source": [
    "prompt = chat_prompt.format_prompt(\n",
    "    cooking_time=\"30 min\", dietary_preference=\"Italian\", recipe_request=\"Quick Snack\"\n",
    ").to_messages()\n",
    "\n",
    "result = chat(prompt)"
   ]
  },
  {
   "cell_type": "code",
   "execution_count": 29,
   "id": "706756df-1264-4121-8043-b733e60188c0",
   "metadata": {},
   "outputs": [
    {
     "name": "stdout",
     "output_type": "stream",
     "text": [
      "Italian Bruschetta\n",
      "\n",
      "Ingredients:\n",
      "- 1 baguette or Italian bread\n",
      "- 4 ripe tomatoes\n",
      "- 2 cloves of garlic\n",
      "- Fresh basil leaves\n",
      "- Extra virgin olive oil\n",
      "- Salt and pepper to taste\n",
      "\n",
      "Instructions:\n",
      "1. Preheat your oven to 375°F (190°C).\n",
      "2. Slice the baguette or Italian bread into about 1-inch thick slices.\n",
      "3. Place the bread slices on a baking sheet and drizzle with olive oil.\n",
      "4. Toast the bread slices in the oven for about 5-7 minutes, or until they are lightly golden and crispy.\n",
      "5. While the bread is toasting, dice the tomatoes and finely chop the garlic cloves.\n",
      "6. In a bowl, combine the diced tomatoes, chopped garlic, a handful of torn fresh basil leaves, a drizzle of olive oil, and salt and pepper to taste. Mix well.\n",
      "7. Remove the toasted bread slices from the oven and let them cool slightly.\n",
      "8. Once the bread slices have cooled, spoon the tomato mixture onto each slice.\n",
      "9. Serve immediately and enjoy your quick and delicious Italian bruschetta!\n"
     ]
    }
   ],
   "source": [
    "print(result.content)"
   ]
  }
 ],
 "metadata": {
  "kernelspec": {
   "display_name": "Python 3 (ipykernel)",
   "language": "python",
   "name": "python3"
  },
  "language_info": {
   "codemirror_mode": {
    "name": "ipython",
    "version": 3
   },
   "file_extension": ".py",
   "mimetype": "text/x-python",
   "name": "python",
   "nbconvert_exporter": "python",
   "pygments_lexer": "ipython3",
   "version": "3.10.9"
  }
 },
 "nbformat": 4,
 "nbformat_minor": 5
}
