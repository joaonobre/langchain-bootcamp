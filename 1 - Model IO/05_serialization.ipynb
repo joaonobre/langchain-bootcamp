{
 "cells": [
  {
   "cell_type": "markdown",
   "id": "e2128d1c-62d1-4681-abe1-754a1410e632",
   "metadata": {},
   "source": [
    "# Serialization\n",
    "\n",
    "How to save and load prompts."
   ]
  },
  {
   "cell_type": "code",
   "execution_count": 2,
   "id": "f5900191-d4cc-4e83-9de7-286cf204d0c0",
   "metadata": {},
   "outputs": [],
   "source": [
    "from langchain.prompts import PromptTemplate, ChatPromptTemplate, HumanMessagePromptTemplate\n",
    "from langchain.llms import OpenAI "
   ]
  },
  {
   "cell_type": "code",
   "execution_count": 3,
   "id": "f7fafb5c",
   "metadata": {},
   "outputs": [],
   "source": [
    "openai_api_key = os.getenv(key=\"OPENAI_API_KEY\")\n",
    "model = OpenAI(openai_api_key=openai_api_key)"
   ]
  },
  {
   "cell_type": "markdown",
   "id": "d2f65382-0a41-44a6-9825-add30c68646a",
   "metadata": {},
   "source": [
    "### Saving the Prompt"
   ]
  },
  {
   "cell_type": "code",
   "execution_count": 4,
   "id": "2469cffb-c2ef-4c9a-a2f0-3b8dc3f64cba",
   "metadata": {},
   "outputs": [],
   "source": [
    "from langchain import PromptTemplate"
   ]
  },
  {
   "cell_type": "code",
   "execution_count": 10,
   "id": "acd20603",
   "metadata": {},
   "outputs": [],
   "source": [
    "template = \"Question: {question}\\n\\nAnswer: Tell me a fact about {animal}\"\n",
    "prompt = PromptTemplate(template=template, input_variables=[\"question\"])"
   ]
  },
  {
   "cell_type": "code",
   "execution_count": 12,
   "id": "df4d2c47",
   "metadata": {},
   "outputs": [
    {
     "name": "stdout",
     "output_type": "stream",
     "text": [
      "input_variables=['animal', 'question'] template='Question: {question}\\n\\nAnswer: Tell me a fact about {animal}'\n"
     ]
    }
   ],
   "source": [
    "print(prompt)"
   ]
  },
  {
   "cell_type": "code",
   "execution_count": 11,
   "id": "616c9a2c",
   "metadata": {},
   "outputs": [],
   "source": [
    "prompt.save(\"prompt.json\")"
   ]
  },
  {
   "cell_type": "markdown",
   "id": "a836756f-e941-4fea-a284-d182988d2167",
   "metadata": {},
   "source": [
    "### Loading the Prompt"
   ]
  },
  {
   "cell_type": "code",
   "execution_count": 7,
   "id": "40a012b4-df48-4998-9b57-3965659494f0",
   "metadata": {},
   "outputs": [],
   "source": [
    "from langchain.prompts import load_prompt"
   ]
  },
  {
   "cell_type": "code",
   "execution_count": 15,
   "id": "e1841fde-f012-4433-8b90-73968ddf5895",
   "metadata": {},
   "outputs": [
    {
     "name": "stdout",
     "output_type": "stream",
     "text": [
      "input_variables=['animal', 'question'] template='Question: {question}\\n\\nAnswer: Tell me a fact about {animal}'\n"
     ]
    }
   ],
   "source": [
    "loaded_prompt = load_prompt('prompt.json')\n",
    "print(loaded_prompt)"
   ]
  }
 ],
 "metadata": {
  "kernelspec": {
   "display_name": "Python 3 (ipykernel)",
   "language": "python",
   "name": "python3"
  },
  "language_info": {
   "codemirror_mode": {
    "name": "ipython",
    "version": 3
   },
   "file_extension": ".py",
   "mimetype": "text/x-python",
   "name": "python",
   "nbconvert_exporter": "python",
   "pygments_lexer": "ipython3",
   "version": "3.10.9"
  }
 },
 "nbformat": 4,
 "nbformat_minor": 5
}
