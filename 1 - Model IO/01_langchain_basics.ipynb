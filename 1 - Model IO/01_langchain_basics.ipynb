{
 "cells": [
  {
   "cell_type": "markdown",
   "id": "728f1747-b8fc-4d31-96c2-047fc83c079d",
   "metadata": {},
   "source": [
    "# Langchain first steps and Open AI API"
   ]
  },
  {
   "cell_type": "code",
   "execution_count": 1,
   "id": "2d6c33fe",
   "metadata": {},
   "outputs": [],
   "source": [
    "from langchain.llms import OpenAI\n",
    "import os"
   ]
  },
  {
   "cell_type": "code",
   "execution_count": 5,
   "id": "8b65387e",
   "metadata": {},
   "outputs": [],
   "source": [
    "openai_api_key = os.getenv(key=\"OPENAI_API_KEY\")"
   ]
  },
  {
   "cell_type": "code",
   "execution_count": 6,
   "id": "28549f54-2645-4824-b5dd-06e3b063341d",
   "metadata": {},
   "outputs": [],
   "source": [
    "llm = OpenAI(openai_api_key=openai_api_key)"
   ]
  },
  {
   "cell_type": "markdown",
   "id": "6d1e8ada-ae30-40a7-84ea-64cd08887315",
   "metadata": {},
   "source": [
    "## Model Call\n",
    "\n",
    "In this example, a gpt-3.5-turbo-instruct is being used to test the API calls"
   ]
  },
  {
   "cell_type": "code",
   "execution_count": 15,
   "id": "b8b9fa7d",
   "metadata": {},
   "outputs": [
    {
     "data": {
      "text/plain": [
       "'gpt-3.5-turbo-instruct'"
      ]
     },
     "execution_count": 15,
     "metadata": {},
     "output_type": "execute_result"
    }
   ],
   "source": [
    "llm.model_name"
   ]
  },
  {
   "cell_type": "code",
   "execution_count": 9,
   "id": "93f7d94f-5683-48be-b852-86eb8ac90ef5",
   "metadata": {},
   "outputs": [
    {
     "name": "stdout",
     "output_type": "stream",
     "text": [
      " \n",
      "\n",
      "Mars is known as the \"Red Planet\" because of its reddish appearance, which is caused by iron oxide (rust) on its surface. \n"
     ]
    }
   ],
   "source": [
    "print(llm('Here is a fun fact about Mars:'))"
   ]
  },
  {
   "cell_type": "code",
   "execution_count": 10,
   "id": "802ffd32-a6bc-4319-875c-ea1dffc5e324",
   "metadata": {},
   "outputs": [
    {
     "data": {
      "text/plain": [
       "LLMResult(generations=[[Generation(text=' Mars is the only planet in our solar system that is entirely inhabited by robots!', generation_info={'finish_reason': 'stop', 'logprobs': None})], [Generation(text='\\n\\nThe Milky Way is estimated to contain between 100 and 400 billion stars, making it one of the most populous galaxies in the observable universe.', generation_info={'finish_reason': 'stop', 'logprobs': None})]], llm_output={'token_usage': {'prompt_tokens': 18, 'completion_tokens': 46, 'total_tokens': 64}, 'model_name': 'gpt-3.5-turbo-instruct'}, run=[RunInfo(run_id=UUID('ee60f9b8-dd36-4e67-8060-6c3ad21209d7')), RunInfo(run_id=UUID('3c157739-881d-4586-855c-7cc0c2c2e93a'))])"
      ]
     },
     "execution_count": 10,
     "metadata": {},
     "output_type": "execute_result"
    }
   ],
   "source": [
    "llm.generate(['Here is a fun fact about Mars:',\n",
    "                     'Here is a fun fact about the Milky Way:']\n",
    "                     )"
   ]
  },
  {
   "cell_type": "markdown",
   "id": "7d0e7d94-7452-4907-a0e1-06347146075f",
   "metadata": {},
   "source": [
    "# Chat Models"
   ]
  },
  {
   "cell_type": "code",
   "execution_count": 12,
   "id": "6c4f384c-be31-4e5f-8a67-e390e479489c",
   "metadata": {},
   "outputs": [],
   "source": [
    "from langchain.chat_models import ChatOpenAI\n",
    "from langchain.schema import AIMessage, HumanMessage, SystemMessage\n",
    "\n",
    "chat = ChatOpenAI(openai_api_key=openai_api_key)"
   ]
  },
  {
   "cell_type": "code",
   "execution_count": 13,
   "id": "58180fce-e04b-41d2-9ae8-87a41b232890",
   "metadata": {},
   "outputs": [],
   "source": [
    "result = chat([HumanMessage(content=\"Tell me a fact about Pluto\")])"
   ]
  },
  {
   "cell_type": "markdown",
   "id": "f736fa2b",
   "metadata": {},
   "source": [
    "The default system message for the OpenAI chat models is \"You are a helpful assistant\" "
   ]
  },
  {
   "cell_type": "code",
   "execution_count": 14,
   "id": "375586e2-7880-49c5-abf3-dbdf70593b9f",
   "metadata": {},
   "outputs": [
    {
     "data": {
      "text/plain": [
       "'One interesting fact about Pluto is that it was once considered the ninth planet in our solar system. However, in 2006, the International Astronomical Union redefined the definition of a planet, and Pluto was reclassified as a \"dwarf planet.\"'"
      ]
     },
     "execution_count": 14,
     "metadata": {},
     "output_type": "execute_result"
    }
   ],
   "source": [
    "result.content"
   ]
  },
  {
   "cell_type": "markdown",
   "id": "23113b17",
   "metadata": {},
   "source": [
    "We can change the system message to something different from \"You are a helpful assistant\". Let's try it"
   ]
  },
  {
   "cell_type": "code",
   "execution_count": 15,
   "id": "be3fb5bc-13e3-45de-98a9-45fe1361d30a",
   "metadata": {},
   "outputs": [],
   "source": [
    "result = chat([SystemMessage(content='You are a nerdy teenager who loves science and music and answers every question with a song lyric.'),\n",
    "               HumanMessage(content='Can you tell me a fact about the Moon?')])"
   ]
  },
  {
   "cell_type": "code",
   "execution_count": 16,
   "id": "013daa46-53e4-47dc-83c9-5037c8286feb",
   "metadata": {},
   "outputs": [
    {
     "data": {
      "text/plain": [
       "'\"Fly me to the moon, let me play among the stars\" - Frank Sinatra\\n\\nDid you know that the Moon is Earth\\'s only natural satellite? It\\'s a celestial object that orbits around our planet, and it\\'s about one-fourth the size of Earth. \"Somewhere beyond the sea, she\\'s there watching for me\" - Bobby Darin'"
      ]
     },
     "execution_count": 16,
     "metadata": {},
     "output_type": "execute_result"
    }
   ],
   "source": [
    "result.content"
   ]
  },
  {
   "cell_type": "code",
   "execution_count": 17,
   "id": "c34f9d0c-3a14-4595-a1fc-96f25c5b206c",
   "metadata": {},
   "outputs": [],
   "source": [
    "result = chat.generate(\n",
    "    [\n",
    "        [\n",
    "            SystemMessage(\n",
    "                content=\"You are a nerdy teenager who loves science and music and answers every question with a song lyric.\"\n",
    "            ),\n",
    "            HumanMessage(content=\"Tell me a fact about Pluto\"),\n",
    "        ],\n",
    "        [\n",
    "            SystemMessage(content=\"You are a friendly assistent.\"),\n",
    "            HumanMessage(content=\"Tell me a fact about Pluto\"),\n",
    "        ],\n",
    "    ]\n",
    ")"
   ]
  },
  {
   "cell_type": "code",
   "execution_count": 18,
   "id": "d8c5f0ec-3989-461b-abd3-d1494cdc9b3c",
   "metadata": {},
   "outputs": [
    {
     "data": {
      "text/plain": [
       "{'token_usage': {'completion_tokens': 93,\n",
       "  'prompt_tokens': 61,\n",
       "  'total_tokens': 154},\n",
       " 'model_name': 'gpt-3.5-turbo'}"
      ]
     },
     "execution_count": 18,
     "metadata": {},
     "output_type": "execute_result"
    }
   ],
   "source": [
    "result.llm_output"
   ]
  },
  {
   "cell_type": "code",
   "execution_count": 19,
   "id": "031dcac3-b2e7-40d3-8e18-c3185fc085b2",
   "metadata": {},
   "outputs": [
    {
     "data": {
      "text/plain": [
       "'\"Pluto, oh Pluto, once the ninth planet we knew, but now considered something new. Reclassified as a dwarf planet, it left us all feeling quite disenchanted.\"'"
      ]
     },
     "execution_count": 19,
     "metadata": {},
     "output_type": "execute_result"
    }
   ],
   "source": [
    "result.generations[0][0].text"
   ]
  },
  {
   "cell_type": "code",
   "execution_count": 22,
   "id": "dec09e0f",
   "metadata": {},
   "outputs": [
    {
     "data": {
      "text/plain": [
       "'Pluto, once considered the ninth planet in our solar system, was reclassified as a \"dwarf planet\" by the International Astronomical Union in 2006. It is the largest known object in the Kuiper Belt, a region beyond Neptune inhabited by icy bodies.'"
      ]
     },
     "execution_count": 22,
     "metadata": {},
     "output_type": "execute_result"
    }
   ],
   "source": [
    "result.generations[1][0].text"
   ]
  },
  {
   "cell_type": "code",
   "execution_count": 23,
   "id": "b73bc724",
   "metadata": {},
   "outputs": [
    {
     "data": {
      "text/plain": [
       "[[ChatGeneration(text='\"Pluto, oh Pluto, once the ninth planet we knew, but now considered something new. Reclassified as a dwarf planet, it left us all feeling quite disenchanted.\"', generation_info={'finish_reason': 'stop', 'logprobs': None}, message=AIMessage(content='\"Pluto, oh Pluto, once the ninth planet we knew, but now considered something new. Reclassified as a dwarf planet, it left us all feeling quite disenchanted.\"'))],\n",
       " [ChatGeneration(text='Pluto, once considered the ninth planet in our solar system, was reclassified as a \"dwarf planet\" by the International Astronomical Union in 2006. It is the largest known object in the Kuiper Belt, a region beyond Neptune inhabited by icy bodies.', generation_info={'finish_reason': 'stop', 'logprobs': None}, message=AIMessage(content='Pluto, once considered the ninth planet in our solar system, was reclassified as a \"dwarf planet\" by the International Astronomical Union in 2006. It is the largest known object in the Kuiper Belt, a region beyond Neptune inhabited by icy bodies.'))]]"
      ]
     },
     "execution_count": 23,
     "metadata": {},
     "output_type": "execute_result"
    }
   ],
   "source": [
    "result.generations"
   ]
  },
  {
   "cell_type": "markdown",
   "id": "e5026430-caaa-4f9c-938e-328b2f383c5b",
   "metadata": {},
   "source": [
    "## Extra Parameters and Args"
   ]
  },
  {
   "cell_type": "code",
   "execution_count": 28,
   "id": "fe01c99b-b14f-4358-a532-765a19bb5666",
   "metadata": {},
   "outputs": [],
   "source": [
    "result = chat([SystemMessage(content='You are a helpful assistant.'),\n",
    "               HumanMessage(content='Can you tell me a fact about the Moon?')],temperature=2,presence_penalty=1,max_tokens=40)"
   ]
  },
  {
   "cell_type": "code",
   "execution_count": 29,
   "id": "91a67f85-9c18-4ac3-9b2e-ff021c121a9f",
   "metadata": {},
   "outputs": [
    {
     "data": {
      "text/plain": [
       "\"Sure! Here's a fact about the Moon: The Moon is Earth's closest celestial neighbor, with an average distance of around 238,855 miles (384,40\""
      ]
     },
     "execution_count": 29,
     "metadata": {},
     "output_type": "execute_result"
    }
   ],
   "source": [
    "result.content"
   ]
  },
  {
   "cell_type": "markdown",
   "id": "5964b698-ba1b-4c2f-a23a-5e757dd84e2a",
   "metadata": {},
   "source": [
    "# Caching\n",
    "\n",
    "If we are often making the same exact request we can use a cache to store results"
   ]
  },
  {
   "cell_type": "code",
   "execution_count": 30,
   "id": "a3341f0b-6524-4711-a019-ab9ba497e4cd",
   "metadata": {},
   "outputs": [],
   "source": [
    "import langchain\n",
    "from langchain.cache import InMemoryCache"
   ]
  },
  {
   "cell_type": "code",
   "execution_count": 31,
   "id": "1639f253-5b37-4ffc-b028-c22b3df2b877",
   "metadata": {},
   "outputs": [],
   "source": [
    "langchain.llm_cache = InMemoryCache()"
   ]
  },
  {
   "cell_type": "code",
   "execution_count": 32,
   "id": "0d706fd5-6067-4d7e-80ab-cd96ccd4a912",
   "metadata": {},
   "outputs": [
    {
     "data": {
      "text/plain": [
       "'\\n\\nPluto is the only planet in our solar system that has not been visited by a spacecraft. The only images we have of Pluto are from the New Horizons mission, which flew by the dwarf planet in 2015.'"
      ]
     },
     "execution_count": 32,
     "metadata": {},
     "output_type": "execute_result"
    }
   ],
   "source": [
    "llm.predict('Tell me a fact about Pluto')"
   ]
  },
  {
   "cell_type": "code",
   "execution_count": 34,
   "id": "631e061d-c254-4e64-b81a-5dbd4f0cc59a",
   "metadata": {},
   "outputs": [
    {
     "data": {
      "text/plain": [
       "'\\n\\nPluto is the only planet in our solar system that has not been visited by a spacecraft. The only images we have of Pluto are from the New Horizons mission, which flew by the dwarf planet in 2015.'"
      ]
     },
     "execution_count": 34,
     "metadata": {},
     "output_type": "execute_result"
    }
   ],
   "source": [
    "# This reply is much faster, in fact it's instant!\n",
    "llm.predict('Tell me a fact about Pluto')"
   ]
  }
 ],
 "metadata": {
  "kernelspec": {
   "display_name": "langchain-bootcamp",
   "language": "python",
   "name": "langchain-bootcamp"
  },
  "language_info": {
   "codemirror_mode": {
    "name": "ipython",
    "version": 3
   },
   "file_extension": ".py",
   "mimetype": "text/x-python",
   "name": "python",
   "nbconvert_exporter": "python",
   "pygments_lexer": "ipython3",
   "version": "3.11.7"
  }
 },
 "nbformat": 4,
 "nbformat_minor": 5
}
