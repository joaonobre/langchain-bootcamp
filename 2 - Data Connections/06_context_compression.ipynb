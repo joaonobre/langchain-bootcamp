{
 "cells": [
  {
   "cell_type": "markdown",
   "id": "728f1747-b8fc-4d31-96c2-047fc83c079d",
   "metadata": {},
   "source": [
    "#  Context Compression\n",
    "\n",
    "Context compression will allow to send the retrieved document based on a query but instead of sending the entire document it will output a shorter (compressed) version of the document that is smaller and more relevant."
   ]
  },
  {
   "cell_type": "code",
   "execution_count": 2,
   "id": "20effa46-1a40-4696-a939-98e9e8437714",
   "metadata": {},
   "outputs": [],
   "source": [
    "from langchain.vectorstores import Chroma\n",
    "from langchain.document_loaders import WikipediaLoader\n",
    "from langchain.embeddings.openai import OpenAIEmbeddings\n",
    "from langchain.text_splitter import CharacterTextSplitter"
   ]
  },
  {
   "cell_type": "markdown",
   "id": "4fee8a05-8426-4897-ae40-6acce3171f92",
   "metadata": {},
   "source": [
    "### OpenAI Connection for Embeddings"
   ]
  },
  {
   "cell_type": "code",
   "execution_count": 4,
   "id": "4b1bc5f5-335c-496b-ad92-c740309b8223",
   "metadata": {},
   "outputs": [],
   "source": [
    "import os\n",
    "openai_api_key = os.getenv(key=\"OPENAI_API_KEY\")\n",
    "embedding_function = OpenAIEmbeddings()"
   ]
  },
  {
   "cell_type": "code",
   "execution_count": 23,
   "id": "a0dcfb0a-4e2a-4f45-9592-b0539ce1d99a",
   "metadata": {},
   "outputs": [],
   "source": [
    "# docs"
   ]
  },
  {
   "cell_type": "markdown",
   "id": "c5f427b3-257a-441e-81f3-4eff46d4b881",
   "metadata": {},
   "source": [
    "### Connect to Embed Documents via ChromaDB"
   ]
  },
  {
   "cell_type": "code",
   "execution_count": 17,
   "id": "cf5d0bbf-668d-48dd-b14d-610626989d40",
   "metadata": {},
   "outputs": [],
   "source": [
    "db_connection = Chroma(persist_directory='./some_new_mk_ultra',embedding_function=embedding_function)"
   ]
  },
  {
   "cell_type": "markdown",
   "id": "8575133b-ade6-452f-8adc-09ce750d41b2",
   "metadata": {},
   "source": [
    "### Contextual Compression"
   ]
  },
  {
   "cell_type": "code",
   "execution_count": 6,
   "id": "d687dcb4-c1fa-419a-bec8-f7ebe567c7a0",
   "metadata": {},
   "outputs": [],
   "source": [
    "from langchain.chat_models import ChatOpenAI\n",
    "from langchain.retrievers import ContextualCompressionRetriever\n",
    "from langchain.retrievers.document_compressors import LLMChainExtractor"
   ]
  },
  {
   "cell_type": "code",
   "execution_count": 18,
   "id": "6269f01f-2e3a-4fe1-8ccf-f94bd5c85efd",
   "metadata": {},
   "outputs": [],
   "source": [
    "llm = ChatOpenAI(temperature=0)\n",
    "compressor = LLMChainExtractor.from_llm(llm)"
   ]
  },
  {
   "cell_type": "code",
   "execution_count": 19,
   "id": "3da1cf1d",
   "metadata": {},
   "outputs": [
    {
     "data": {
      "text/plain": [
       "'Given the following question and context, extract any part of the context *AS IS* that is relevant to answer the question. If none of the context is relevant return NO_OUTPUT. \\n\\nRemember, *DO NOT* edit the extracted parts of the context.\\n\\n> Question: {question}\\n> Context:\\n>>>\\n{context}\\n>>>\\nExtracted relevant parts:'"
      ]
     },
     "execution_count": 19,
     "metadata": {},
     "output_type": "execute_result"
    }
   ],
   "source": [
    "compressor.llm_chain.prompt.template"
   ]
  },
  {
   "cell_type": "code",
   "execution_count": 20,
   "id": "aa0576ee-b6f8-4c4a-945f-3be771c7d34b",
   "metadata": {},
   "outputs": [],
   "source": [
    "compression_retriever = ContextualCompressionRetriever(base_compressor=compressor, base_retriever=db_connection.as_retriever())"
   ]
  },
  {
   "cell_type": "code",
   "execution_count": 31,
   "id": "edf9f159-6a66-4c46-9324-a743de83b393",
   "metadata": {},
   "outputs": [],
   "source": [
    "docs = db_connection.similarity_search('Who led the presidential commission?')"
   ]
  },
  {
   "cell_type": "code",
   "execution_count": 32,
   "id": "33c277fc-2bb7-4de9-b6c9-6d87ac4e9220",
   "metadata": {},
   "outputs": [
    {
     "data": {
      "text/plain": [
       "[Document(page_content='The United States President\\'s Commission on CIA Activities within the United States was ordained by President Gerald Ford in 1975 to investigate the activities of the Central Intelligence Agency and other intelligence agencies within the United States. The Presidential Commission was led by Vice President Nelson Rockefeller, from whom it gained the nickname the Rockefeller Commission.\\nThe commission was created in response to a December 1974 report in The New York Times that the CIA had conducted illegal domestic activities, including experiments on US citizens, during the 1960s. The commission issued a single report in 1975, touching upon certain CIA abuses including mail opening and surveillance of domestic dissident groups. It also publicized Project MKUltra, a CIA mind control research program.\\nSeveral weeks later, committees were established in the House and Senate for a similar purpose. White House Personnel, including future Vice President Dick Cheney, edited the results, excluding many of the commission\\'s findings from the final report. Some of these findings were included in later reports by the Congressional Committees.\\nBefore it was even released, the report faced scrutiny from the media, and was deemed a \"whitewash.\" The investigation was intended to be independent of Presidential interference, but the findings and recommendations included in the final report were highly altered from what was chosen by the commission itself. It was ultimately superseded in notability by the more substantial Church Committee in what became known as the \"Year of Intelligence.\"', metadata={'title': \"United States President's Commission on CIA Activities within the United States\", 'summary': 'The United States President\\'s Commission on CIA Activities within the United States was ordained by President Gerald Ford in 1975 to investigate the activities of the Central Intelligence Agency and other intelligence agencies within the United States. The Presidential Commission was led by Vice President Nelson Rockefeller, from whom it gained the nickname the Rockefeller Commission.\\nThe commission was created in response to a December 1974 report in The New York Times that the CIA had conducted illegal domestic activities, including experiments on US citizens, during the 1960s. The commission issued a single report in 1975, touching upon certain CIA abuses including mail opening and surveillance of domestic dissident groups. It also publicized Project MKUltra, a CIA mind control research program.\\nSeveral weeks later, committees were established in the House and Senate for a similar purpose. White House Personnel, including future Vice President Dick Cheney, edited the results, excluding many of the commission\\'s findings from the final report. Some of these findings were included in later reports by the Congressional Committees.\\nBefore it was even released, the report faced scrutiny from the media, and was deemed a \"whitewash.\" The investigation was intended to be independent of Presidential interference, but the findings and recommendations included in the final report were highly altered from what was chosen by the commission itself. It was ultimately superseded in notability by the more substantial Church Committee in what became known as the \"Year of Intelligence.\"   \\n\\n', 'source': 'https://en.wikipedia.org/wiki/United_States_President%27s_Commission_on_CIA_Activities_within_the_United_States'}),\n",
       " Document(page_content='== Overview ==\\nThe Church Committee\\'s final report was published in April 1976 in six books. Also published were seven volumes of Church Committee hearings in the Senate.Before the release of the final report, the committee also published an interim report titled \"Alleged Assassination Plots Involving Foreign Leaders\", which investigated alleged attempts to assassinate foreign leaders, including Patrice Lumumba of Zaire, Rafael Trujillo of the Dominican Republic, Ngo Dinh Diem of South Vietnam, Gen. René Schneider of Chile and Fidel Castro of Cuba. President Gerald Ford urged the Senate to withhold the report from the public, but failed, and under recommendations and pressure by the committee, Ford issued Executive Order 11905 (ultimately replaced in 1981 by President Reagan\\'s Executive Order 12333) to ban US sanctioned assassinations of foreign leaders.\\nIn addition, the committee produced seven case studies on covert operations, but only the one on Chile was released, titled \"Covert Action in Chile: 1963–1973\". The rest were kept secret at CIA\\'s request.According to a declassified National Security Agency history, the Church Committee also helped to uncover the NSA\\'s Watch List. The information for the list was compiled into the so-called \"Rhyming Dictionary\" of biographical information, which at its peak held millions of names—thousands of which were US citizens. Some prominent members of this list were Joanne Woodward, Thomas Watson, Walter Mondale, Art Buchwald, Arthur F. Burns, Gregory Peck, Otis G. Pike, Tom Wicker, Whitney Young, Howard Baker, Frank Church, David Dellinger, Ralph Abernathy, and others.But among the most shocking revelations of the comm', metadata={'title': 'Church Committee', 'summary': 'The Church Committee (formally the United States Senate Select Committee to Study Governmental Operations with Respect to Intelligence Activities) was a US Senate select committee in 1975 that  investigated abuses by the Central Intelligence Agency (CIA), National Security Agency (NSA), Federal Bureau of Investigation (FBI), and the Internal Revenue Service (IRS). Chaired by Idaho Senator Frank Church (D-ID), the committee was part of a series of investigations into intelligence abuses in 1975, dubbed the \"Year of Intelligence\", including its House counterpart, the Pike Committee, and the presidential Rockefeller Commission. The committee\\'s efforts led to the establishment of the permanent US Senate Select Committee on Intelligence.\\nThe most shocking revelations of the committee include Operation MKULTRA, which involved the drugging and torture of unwitting US citizens as part of human experimentation on mind control; COINTELPRO, which involved the surveillance and infiltration of American political and civil-rights organizations; and Family Jewels, a CIA program to covertly assassinate foreign leaders.It also unearthed Project SHAMROCK, a program in which the major telecommunications companies shared their traffic with the NSA, and officially confirmed the existence of this signals intelligence agency to the public for the first time.\\n\\n', 'source': 'https://en.wikipedia.org/wiki/Church_Committee'}),\n",
       " Document(page_content='The Church Committee (formally the United States Senate Select Committee to Study Governmental Operations with Respect to Intelligence Activities) was a US Senate select committee in 1975 that  investigated abuses by the Central Intelligence Agency (CIA), National Security Agency (NSA), Federal Bureau of Investigation (FBI), and the Internal Revenue Service (IRS). Chaired by Idaho Senator Frank Church (D-ID), the committee was part of a series of investigations into intelligence abuses in 1975, dubbed the \"Year of Intelligence\", including its House counterpart, the Pike Committee, and the presidential Rockefeller Commission. The committee\\'s efforts led to the establishment of the permanent US Senate Select Committee on Intelligence.\\nThe most shocking revelations of the committee include Operation MKULTRA, which involved the drugging and torture of unwitting US citizens as part of human experimentation on mind control; COINTELPRO, which involved the surveillance and infiltration of American political and civil-rights organizations; and Family Jewels, a CIA program to covertly assassinate foreign leaders.It also unearthed Project SHAMROCK, a program in which the major telecommunications companies shared their traffic with the NSA, and officially confirmed the existence of this signals intelligence agency to the public for the first time.\\n\\n\\n== Background ==\\nBy the early years of the 1970s, a series of troubling revelations had appeared in the press concerning intelligence activities. First came the revelations by Army intelligence officer Christopher Pyle in January 1970 of the US Army\\'s spying on the civilian population and Senator Sam Ervin\\'s Senate investigations produced more revelations. Then on December 22, 1974, The New York Times published a lengthy article by Seymour Hersh detailing operations engaged in by the CIA over the years that had been dubbed the \"family jewels\". Covert action programs involving assassination attempts on foreign leaders and covert attempts to subvert foreign governments were reported for the first time. In addition, the article discussed efforts by intelligence agencies to collect information on the political activities of US citizens.The creation of the Church Committee was approved on January 27, 1975, by a vote of 82 to 4 in the Senate.', metadata={'title': 'Church Committee', 'summary': 'The Church Committee (formally the United States Senate Select Committee to Study Governmental Operations with Respect to Intelligence Activities) was a US Senate select committee in 1975 that  investigated abuses by the Central Intelligence Agency (CIA), National Security Agency (NSA), Federal Bureau of Investigation (FBI), and the Internal Revenue Service (IRS). Chaired by Idaho Senator Frank Church (D-ID), the committee was part of a series of investigations into intelligence abuses in 1975, dubbed the \"Year of Intelligence\", including its House counterpart, the Pike Committee, and the presidential Rockefeller Commission. The committee\\'s efforts led to the establishment of the permanent US Senate Select Committee on Intelligence.\\nThe most shocking revelations of the committee include Operation MKULTRA, which involved the drugging and torture of unwitting US citizens as part of human experimentation on mind control; COINTELPRO, which involved the surveillance and infiltration of American political and civil-rights organizations; and Family Jewels, a CIA program to covertly assassinate foreign leaders.It also unearthed Project SHAMROCK, a program in which the major telecommunications companies shared their traffic with the NSA, and officially confirmed the existence of this signals intelligence agency to the public for the first time.\\n\\n', 'source': 'https://en.wikipedia.org/wiki/Church_Committee'}),\n",
       " Document(page_content='Donald Ewen Cameron ((1901-12-24)24 December 1901 – (1967-09-08)8 September 1967) was a Scottish-born psychiatrist. He is largely known today for his central role in unethical medical experiments, and development of psychological and medical torture techniques for the Central Intelligence Agency (CIA). He served as president of the American Psychiatric Association (1952–1953), Canadian Psychiatric Association (1958–1959), American Psychopathological Association (1963), Society of Biological Psychiatry (1965) and the World Psychiatric Association (1961–1966).Cameron was involved in administering electroconvulsive therapy and experimental drugs, including poisons such as curare and hallucinogens such as lysergic acid diethylamide, to patients and prisoners without their knowledge or informed consent. Some of this work took place in the context of the Project MKUltra program for the developing of mind control and torture techniques, psychoactive poisons, and behavior modification systems; whether or not he was aware of this is unknown. Decades after his own death, the psychic driving technique he developed continued to see extensive use in the torture of prisoners around the world.', metadata={'title': 'Donald Ewen Cameron', 'summary': 'Donald Ewen Cameron ((1901-12-24)24 December 1901 – (1967-09-08)8 September 1967) was a Scottish-born psychiatrist. He is largely known today for his central role in unethical medical experiments, and development of psychological and medical torture techniques for the Central Intelligence Agency (CIA). He served as president of the American Psychiatric Association (1952–1953), Canadian Psychiatric Association (1958–1959), American Psychopathological Association (1963), Society of Biological Psychiatry (1965) and the World Psychiatric Association (1961–1966).Cameron was involved in administering electroconvulsive therapy and experimental drugs, including poisons such as curare and hallucinogens such as lysergic acid diethylamide, to patients and prisoners without their knowledge or informed consent. Some of this work took place in the context of the Project MKUltra program for the developing of mind control and torture techniques, psychoactive poisons, and behavior modification systems; whether or not he was aware of this is unknown. Decades after his own death, the psychic driving technique he developed continued to see extensive use in the torture of prisoners around the world.\\n\\n', 'source': 'https://en.wikipedia.org/wiki/Donald_Ewen_Cameron'})]"
      ]
     },
     "execution_count": 32,
     "metadata": {},
     "output_type": "execute_result"
    }
   ],
   "source": [
    "docs"
   ]
  },
  {
   "cell_type": "code",
   "execution_count": 33,
   "id": "4c048545-b672-4116-832c-d0beda0d4b11",
   "metadata": {},
   "outputs": [],
   "source": [
    "compressed_docs = compression_retriever.get_relevant_documents(\"Who led the presidential commission?\")"
   ]
  },
  {
   "cell_type": "code",
   "execution_count": 34,
   "id": "3eb01487-d6a9-48cf-9f69-ab78892453b8",
   "metadata": {},
   "outputs": [
    {
     "data": {
      "text/plain": [
       "'The Presidential Commission was led by Vice President Nelson Rockefeller, from whom it gained the nickname the Rockefeller Commission.'"
      ]
     },
     "execution_count": 34,
     "metadata": {},
     "output_type": "execute_result"
    }
   ],
   "source": [
    "compressed_docs[0].page_content"
   ]
  },
  {
   "cell_type": "markdown",
   "id": "b6d9078e",
   "metadata": {},
   "source": [
    "As we can see, context compression allows to obtain a much smaller and relevant answer to our queries instead of returning the entire document like in a similarity search."
   ]
  },
  {
   "cell_type": "code",
   "execution_count": 38,
   "id": "51a79573",
   "metadata": {},
   "outputs": [
    {
     "data": {
      "text/plain": [
       "'The United States President\\'s Commission on CIA Activities within the United States was ordained by President Gerald Ford in 1975 to investigate the activities of the Central Intelligence Agency and other intelligence agencies within the United States. The Presidential Commission was led by Vice President Nelson Rockefeller, from whom it gained the nickname the Rockefeller Commission.\\nThe commission was created in response to a December 1974 report in The New York Times that the CIA had conducted illegal domestic activities, including experiments on US citizens, during the 1960s. The commission issued a single report in 1975, touching upon certain CIA abuses including mail opening and surveillance of domestic dissident groups. It also publicized Project MKUltra, a CIA mind control research program.\\nSeveral weeks later, committees were established in the House and Senate for a similar purpose. White House Personnel, including future Vice President Dick Cheney, edited the results, excluding many of the commission\\'s findings from the final report. Some of these findings were included in later reports by the Congressional Committees.\\nBefore it was even released, the report faced scrutiny from the media, and was deemed a \"whitewash.\" The investigation was intended to be independent of Presidential interference, but the findings and recommendations included in the final report were highly altered from what was chosen by the commission itself. It was ultimately superseded in notability by the more substantial Church Committee in what became known as the \"Year of Intelligence.\"   \\n\\n'"
      ]
     },
     "execution_count": 38,
     "metadata": {},
     "output_type": "execute_result"
    }
   ],
   "source": [
    "compressed_docs[0].metadata[\"summary\"]"
   ]
  },
  {
   "cell_type": "code",
   "execution_count": null,
   "id": "d34f75e1",
   "metadata": {},
   "outputs": [],
   "source": []
  }
 ],
 "metadata": {
  "kernelspec": {
   "display_name": "Python 3 (ipykernel)",
   "language": "python",
   "name": "python3"
  },
  "language_info": {
   "codemirror_mode": {
    "name": "ipython",
    "version": 3
   },
   "file_extension": ".py",
   "mimetype": "text/x-python",
   "name": "python",
   "nbconvert_exporter": "python",
   "pygments_lexer": "ipython3",
   "version": "3.10.9"
  }
 },
 "nbformat": 4,
 "nbformat_minor": 5
}
